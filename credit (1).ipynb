{
 "cells": [
  {
   "cell_type": "markdown",
   "metadata": {},
   "source": [
    "<h1><center><font size=10><font color='green'>**Credit card fraud detection**</font></font></center></h1>"
   ]
  },
  {
   "cell_type": "markdown",
   "metadata": {},
   "source": [
    "<h1><font size=4><font color='brown'>**Setting the working directory**</font></font></h1>"
   ]
  },
  {
   "cell_type": "code",
   "execution_count": 1,
   "metadata": {},
   "outputs": [
    {
     "name": "stdout",
     "output_type": "stream",
     "text": [
      "C:\\Users\\vibhanshuv\\Downloads\\credit card\n"
     ]
    }
   ],
   "source": [
    "%cd \"C:\\Users\\vibhanshuv\\Downloads\\credit card\""
   ]
  },
  {
   "cell_type": "markdown",
   "metadata": {},
   "source": [
    "<h1><font size=4><font color='brown'>**Importing dependencies**</font></font></h1>"
   ]
  },
  {
   "cell_type": "code",
   "execution_count": 2,
   "metadata": {},
   "outputs": [],
   "source": [
    "import numpy as np\n",
    "import pandas as pd\n",
    "import matplotlib.pyplot as plt\n",
    "import seaborn as sns\n",
    "from sklearn.model_selection import train_test_split\n",
    "from sklearn.metrics import average_precision_score\n",
    "from sklearn.metrics import confusion_matrix, precision_recall_curve, auc, roc_auc_score, roc_curve, recall_score, classification_report"
   ]
  },
  {
   "cell_type": "markdown",
   "metadata": {},
   "source": [
    "<h1><font size=4><font color='brown'>**Importing CSV file**</font></font></h1>"
   ]
  },
  {
   "cell_type": "code",
   "execution_count": 3,
   "metadata": {},
   "outputs": [],
   "source": [
    "df=pd.read_csv('creditcard.csv',sep=\",\")"
   ]
  },
  {
   "cell_type": "code",
   "execution_count": 4,
   "metadata": {},
   "outputs": [
    {
     "data": {
      "text/html": [
       "<div>\n",
       "<style scoped>\n",
       "    .dataframe tbody tr th:only-of-type {\n",
       "        vertical-align: middle;\n",
       "    }\n",
       "\n",
       "    .dataframe tbody tr th {\n",
       "        vertical-align: top;\n",
       "    }\n",
       "\n",
       "    .dataframe thead th {\n",
       "        text-align: right;\n",
       "    }\n",
       "</style>\n",
       "<table border=\"1\" class=\"dataframe\">\n",
       "  <thead>\n",
       "    <tr style=\"text-align: right;\">\n",
       "      <th></th>\n",
       "      <th>Time</th>\n",
       "      <th>V1</th>\n",
       "      <th>V2</th>\n",
       "      <th>V3</th>\n",
       "      <th>V4</th>\n",
       "      <th>V5</th>\n",
       "      <th>V6</th>\n",
       "      <th>V7</th>\n",
       "      <th>V8</th>\n",
       "      <th>V9</th>\n",
       "      <th>...</th>\n",
       "      <th>V21</th>\n",
       "      <th>V22</th>\n",
       "      <th>V23</th>\n",
       "      <th>V24</th>\n",
       "      <th>V25</th>\n",
       "      <th>V26</th>\n",
       "      <th>V27</th>\n",
       "      <th>V28</th>\n",
       "      <th>Amount</th>\n",
       "      <th>Class</th>\n",
       "    </tr>\n",
       "  </thead>\n",
       "  <tbody>\n",
       "    <tr>\n",
       "      <th>0</th>\n",
       "      <td>0.0</td>\n",
       "      <td>-1.359807</td>\n",
       "      <td>-0.072781</td>\n",
       "      <td>2.536347</td>\n",
       "      <td>1.378155</td>\n",
       "      <td>-0.338321</td>\n",
       "      <td>0.462388</td>\n",
       "      <td>0.239599</td>\n",
       "      <td>0.098698</td>\n",
       "      <td>0.363787</td>\n",
       "      <td>...</td>\n",
       "      <td>-0.018307</td>\n",
       "      <td>0.277838</td>\n",
       "      <td>-0.110474</td>\n",
       "      <td>0.066928</td>\n",
       "      <td>0.128539</td>\n",
       "      <td>-0.189115</td>\n",
       "      <td>0.133558</td>\n",
       "      <td>-0.021053</td>\n",
       "      <td>149.62</td>\n",
       "      <td>0</td>\n",
       "    </tr>\n",
       "    <tr>\n",
       "      <th>1</th>\n",
       "      <td>0.0</td>\n",
       "      <td>1.191857</td>\n",
       "      <td>0.266151</td>\n",
       "      <td>0.166480</td>\n",
       "      <td>0.448154</td>\n",
       "      <td>0.060018</td>\n",
       "      <td>-0.082361</td>\n",
       "      <td>-0.078803</td>\n",
       "      <td>0.085102</td>\n",
       "      <td>-0.255425</td>\n",
       "      <td>...</td>\n",
       "      <td>-0.225775</td>\n",
       "      <td>-0.638672</td>\n",
       "      <td>0.101288</td>\n",
       "      <td>-0.339846</td>\n",
       "      <td>0.167170</td>\n",
       "      <td>0.125895</td>\n",
       "      <td>-0.008983</td>\n",
       "      <td>0.014724</td>\n",
       "      <td>2.69</td>\n",
       "      <td>0</td>\n",
       "    </tr>\n",
       "    <tr>\n",
       "      <th>2</th>\n",
       "      <td>1.0</td>\n",
       "      <td>-1.358354</td>\n",
       "      <td>-1.340163</td>\n",
       "      <td>1.773209</td>\n",
       "      <td>0.379780</td>\n",
       "      <td>-0.503198</td>\n",
       "      <td>1.800499</td>\n",
       "      <td>0.791461</td>\n",
       "      <td>0.247676</td>\n",
       "      <td>-1.514654</td>\n",
       "      <td>...</td>\n",
       "      <td>0.247998</td>\n",
       "      <td>0.771679</td>\n",
       "      <td>0.909412</td>\n",
       "      <td>-0.689281</td>\n",
       "      <td>-0.327642</td>\n",
       "      <td>-0.139097</td>\n",
       "      <td>-0.055353</td>\n",
       "      <td>-0.059752</td>\n",
       "      <td>378.66</td>\n",
       "      <td>0</td>\n",
       "    </tr>\n",
       "    <tr>\n",
       "      <th>3</th>\n",
       "      <td>1.0</td>\n",
       "      <td>-0.966272</td>\n",
       "      <td>-0.185226</td>\n",
       "      <td>1.792993</td>\n",
       "      <td>-0.863291</td>\n",
       "      <td>-0.010309</td>\n",
       "      <td>1.247203</td>\n",
       "      <td>0.237609</td>\n",
       "      <td>0.377436</td>\n",
       "      <td>-1.387024</td>\n",
       "      <td>...</td>\n",
       "      <td>-0.108300</td>\n",
       "      <td>0.005274</td>\n",
       "      <td>-0.190321</td>\n",
       "      <td>-1.175575</td>\n",
       "      <td>0.647376</td>\n",
       "      <td>-0.221929</td>\n",
       "      <td>0.062723</td>\n",
       "      <td>0.061458</td>\n",
       "      <td>123.50</td>\n",
       "      <td>0</td>\n",
       "    </tr>\n",
       "    <tr>\n",
       "      <th>4</th>\n",
       "      <td>2.0</td>\n",
       "      <td>-1.158233</td>\n",
       "      <td>0.877737</td>\n",
       "      <td>1.548718</td>\n",
       "      <td>0.403034</td>\n",
       "      <td>-0.407193</td>\n",
       "      <td>0.095921</td>\n",
       "      <td>0.592941</td>\n",
       "      <td>-0.270533</td>\n",
       "      <td>0.817739</td>\n",
       "      <td>...</td>\n",
       "      <td>-0.009431</td>\n",
       "      <td>0.798278</td>\n",
       "      <td>-0.137458</td>\n",
       "      <td>0.141267</td>\n",
       "      <td>-0.206010</td>\n",
       "      <td>0.502292</td>\n",
       "      <td>0.219422</td>\n",
       "      <td>0.215153</td>\n",
       "      <td>69.99</td>\n",
       "      <td>0</td>\n",
       "    </tr>\n",
       "    <tr>\n",
       "      <th>5</th>\n",
       "      <td>2.0</td>\n",
       "      <td>-0.425966</td>\n",
       "      <td>0.960523</td>\n",
       "      <td>1.141109</td>\n",
       "      <td>-0.168252</td>\n",
       "      <td>0.420987</td>\n",
       "      <td>-0.029728</td>\n",
       "      <td>0.476201</td>\n",
       "      <td>0.260314</td>\n",
       "      <td>-0.568671</td>\n",
       "      <td>...</td>\n",
       "      <td>-0.208254</td>\n",
       "      <td>-0.559825</td>\n",
       "      <td>-0.026398</td>\n",
       "      <td>-0.371427</td>\n",
       "      <td>-0.232794</td>\n",
       "      <td>0.105915</td>\n",
       "      <td>0.253844</td>\n",
       "      <td>0.081080</td>\n",
       "      <td>3.67</td>\n",
       "      <td>0</td>\n",
       "    </tr>\n",
       "    <tr>\n",
       "      <th>6</th>\n",
       "      <td>4.0</td>\n",
       "      <td>1.229658</td>\n",
       "      <td>0.141004</td>\n",
       "      <td>0.045371</td>\n",
       "      <td>1.202613</td>\n",
       "      <td>0.191881</td>\n",
       "      <td>0.272708</td>\n",
       "      <td>-0.005159</td>\n",
       "      <td>0.081213</td>\n",
       "      <td>0.464960</td>\n",
       "      <td>...</td>\n",
       "      <td>-0.167716</td>\n",
       "      <td>-0.270710</td>\n",
       "      <td>-0.154104</td>\n",
       "      <td>-0.780055</td>\n",
       "      <td>0.750137</td>\n",
       "      <td>-0.257237</td>\n",
       "      <td>0.034507</td>\n",
       "      <td>0.005168</td>\n",
       "      <td>4.99</td>\n",
       "      <td>0</td>\n",
       "    </tr>\n",
       "    <tr>\n",
       "      <th>7</th>\n",
       "      <td>7.0</td>\n",
       "      <td>-0.644269</td>\n",
       "      <td>1.417964</td>\n",
       "      <td>1.074380</td>\n",
       "      <td>-0.492199</td>\n",
       "      <td>0.948934</td>\n",
       "      <td>0.428118</td>\n",
       "      <td>1.120631</td>\n",
       "      <td>-3.807864</td>\n",
       "      <td>0.615375</td>\n",
       "      <td>...</td>\n",
       "      <td>1.943465</td>\n",
       "      <td>-1.015455</td>\n",
       "      <td>0.057504</td>\n",
       "      <td>-0.649709</td>\n",
       "      <td>-0.415267</td>\n",
       "      <td>-0.051634</td>\n",
       "      <td>-1.206921</td>\n",
       "      <td>-1.085339</td>\n",
       "      <td>40.80</td>\n",
       "      <td>0</td>\n",
       "    </tr>\n",
       "    <tr>\n",
       "      <th>8</th>\n",
       "      <td>7.0</td>\n",
       "      <td>-0.894286</td>\n",
       "      <td>0.286157</td>\n",
       "      <td>-0.113192</td>\n",
       "      <td>-0.271526</td>\n",
       "      <td>2.669599</td>\n",
       "      <td>3.721818</td>\n",
       "      <td>0.370145</td>\n",
       "      <td>0.851084</td>\n",
       "      <td>-0.392048</td>\n",
       "      <td>...</td>\n",
       "      <td>-0.073425</td>\n",
       "      <td>-0.268092</td>\n",
       "      <td>-0.204233</td>\n",
       "      <td>1.011592</td>\n",
       "      <td>0.373205</td>\n",
       "      <td>-0.384157</td>\n",
       "      <td>0.011747</td>\n",
       "      <td>0.142404</td>\n",
       "      <td>93.20</td>\n",
       "      <td>0</td>\n",
       "    </tr>\n",
       "    <tr>\n",
       "      <th>9</th>\n",
       "      <td>9.0</td>\n",
       "      <td>-0.338262</td>\n",
       "      <td>1.119593</td>\n",
       "      <td>1.044367</td>\n",
       "      <td>-0.222187</td>\n",
       "      <td>0.499361</td>\n",
       "      <td>-0.246761</td>\n",
       "      <td>0.651583</td>\n",
       "      <td>0.069539</td>\n",
       "      <td>-0.736727</td>\n",
       "      <td>...</td>\n",
       "      <td>-0.246914</td>\n",
       "      <td>-0.633753</td>\n",
       "      <td>-0.120794</td>\n",
       "      <td>-0.385050</td>\n",
       "      <td>-0.069733</td>\n",
       "      <td>0.094199</td>\n",
       "      <td>0.246219</td>\n",
       "      <td>0.083076</td>\n",
       "      <td>3.68</td>\n",
       "      <td>0</td>\n",
       "    </tr>\n",
       "  </tbody>\n",
       "</table>\n",
       "<p>10 rows × 31 columns</p>\n",
       "</div>"
      ],
      "text/plain": [
       "   Time        V1        V2        V3        V4        V5        V6        V7  \\\n",
       "0   0.0 -1.359807 -0.072781  2.536347  1.378155 -0.338321  0.462388  0.239599   \n",
       "1   0.0  1.191857  0.266151  0.166480  0.448154  0.060018 -0.082361 -0.078803   \n",
       "2   1.0 -1.358354 -1.340163  1.773209  0.379780 -0.503198  1.800499  0.791461   \n",
       "3   1.0 -0.966272 -0.185226  1.792993 -0.863291 -0.010309  1.247203  0.237609   \n",
       "4   2.0 -1.158233  0.877737  1.548718  0.403034 -0.407193  0.095921  0.592941   \n",
       "5   2.0 -0.425966  0.960523  1.141109 -0.168252  0.420987 -0.029728  0.476201   \n",
       "6   4.0  1.229658  0.141004  0.045371  1.202613  0.191881  0.272708 -0.005159   \n",
       "7   7.0 -0.644269  1.417964  1.074380 -0.492199  0.948934  0.428118  1.120631   \n",
       "8   7.0 -0.894286  0.286157 -0.113192 -0.271526  2.669599  3.721818  0.370145   \n",
       "9   9.0 -0.338262  1.119593  1.044367 -0.222187  0.499361 -0.246761  0.651583   \n",
       "\n",
       "         V8        V9  ...         V21       V22       V23       V24  \\\n",
       "0  0.098698  0.363787  ...   -0.018307  0.277838 -0.110474  0.066928   \n",
       "1  0.085102 -0.255425  ...   -0.225775 -0.638672  0.101288 -0.339846   \n",
       "2  0.247676 -1.514654  ...    0.247998  0.771679  0.909412 -0.689281   \n",
       "3  0.377436 -1.387024  ...   -0.108300  0.005274 -0.190321 -1.175575   \n",
       "4 -0.270533  0.817739  ...   -0.009431  0.798278 -0.137458  0.141267   \n",
       "5  0.260314 -0.568671  ...   -0.208254 -0.559825 -0.026398 -0.371427   \n",
       "6  0.081213  0.464960  ...   -0.167716 -0.270710 -0.154104 -0.780055   \n",
       "7 -3.807864  0.615375  ...    1.943465 -1.015455  0.057504 -0.649709   \n",
       "8  0.851084 -0.392048  ...   -0.073425 -0.268092 -0.204233  1.011592   \n",
       "9  0.069539 -0.736727  ...   -0.246914 -0.633753 -0.120794 -0.385050   \n",
       "\n",
       "        V25       V26       V27       V28  Amount  Class  \n",
       "0  0.128539 -0.189115  0.133558 -0.021053  149.62      0  \n",
       "1  0.167170  0.125895 -0.008983  0.014724    2.69      0  \n",
       "2 -0.327642 -0.139097 -0.055353 -0.059752  378.66      0  \n",
       "3  0.647376 -0.221929  0.062723  0.061458  123.50      0  \n",
       "4 -0.206010  0.502292  0.219422  0.215153   69.99      0  \n",
       "5 -0.232794  0.105915  0.253844  0.081080    3.67      0  \n",
       "6  0.750137 -0.257237  0.034507  0.005168    4.99      0  \n",
       "7 -0.415267 -0.051634 -1.206921 -1.085339   40.80      0  \n",
       "8  0.373205 -0.384157  0.011747  0.142404   93.20      0  \n",
       "9 -0.069733  0.094199  0.246219  0.083076    3.68      0  \n",
       "\n",
       "[10 rows x 31 columns]"
      ]
     },
     "execution_count": 4,
     "metadata": {},
     "output_type": "execute_result"
    }
   ],
   "source": [
    "df.head(10)"
   ]
  },
  {
   "cell_type": "code",
   "execution_count": 5,
   "metadata": {
    "scrolled": true
   },
   "outputs": [
    {
     "name": "stdout",
     "output_type": "stream",
     "text": [
      "<class 'pandas.core.frame.DataFrame'>\n",
      "RangeIndex: 284807 entries, 0 to 284806\n",
      "Data columns (total 31 columns):\n",
      "Time      284807 non-null float64\n",
      "V1        284807 non-null float64\n",
      "V2        284807 non-null float64\n",
      "V3        284807 non-null float64\n",
      "V4        284807 non-null float64\n",
      "V5        284807 non-null float64\n",
      "V6        284807 non-null float64\n",
      "V7        284807 non-null float64\n",
      "V8        284807 non-null float64\n",
      "V9        284807 non-null float64\n",
      "V10       284807 non-null float64\n",
      "V11       284807 non-null float64\n",
      "V12       284807 non-null float64\n",
      "V13       284807 non-null float64\n",
      "V14       284807 non-null float64\n",
      "V15       284807 non-null float64\n",
      "V16       284807 non-null float64\n",
      "V17       284807 non-null float64\n",
      "V18       284807 non-null float64\n",
      "V19       284807 non-null float64\n",
      "V20       284807 non-null float64\n",
      "V21       284807 non-null float64\n",
      "V22       284807 non-null float64\n",
      "V23       284807 non-null float64\n",
      "V24       284807 non-null float64\n",
      "V25       284807 non-null float64\n",
      "V26       284807 non-null float64\n",
      "V27       284807 non-null float64\n",
      "V28       284807 non-null float64\n",
      "Amount    284807 non-null float64\n",
      "Class     284807 non-null int64\n",
      "dtypes: float64(30), int64(1)\n",
      "memory usage: 67.4 MB\n"
     ]
    }
   ],
   "source": [
    "df.info()"
   ]
  },
  {
   "cell_type": "code",
   "execution_count": 6,
   "metadata": {},
   "outputs": [
    {
     "data": {
      "text/html": [
       "<div>\n",
       "<style scoped>\n",
       "    .dataframe tbody tr th:only-of-type {\n",
       "        vertical-align: middle;\n",
       "    }\n",
       "\n",
       "    .dataframe tbody tr th {\n",
       "        vertical-align: top;\n",
       "    }\n",
       "\n",
       "    .dataframe thead th {\n",
       "        text-align: right;\n",
       "    }\n",
       "</style>\n",
       "<table border=\"1\" class=\"dataframe\">\n",
       "  <thead>\n",
       "    <tr style=\"text-align: right;\">\n",
       "      <th></th>\n",
       "      <th>Time</th>\n",
       "      <th>V1</th>\n",
       "      <th>V2</th>\n",
       "      <th>V3</th>\n",
       "      <th>V4</th>\n",
       "      <th>V5</th>\n",
       "      <th>V6</th>\n",
       "      <th>V7</th>\n",
       "      <th>V8</th>\n",
       "      <th>V9</th>\n",
       "      <th>...</th>\n",
       "      <th>V21</th>\n",
       "      <th>V22</th>\n",
       "      <th>V23</th>\n",
       "      <th>V24</th>\n",
       "      <th>V25</th>\n",
       "      <th>V26</th>\n",
       "      <th>V27</th>\n",
       "      <th>V28</th>\n",
       "      <th>Amount</th>\n",
       "      <th>Class</th>\n",
       "    </tr>\n",
       "  </thead>\n",
       "  <tbody>\n",
       "    <tr>\n",
       "      <th>count</th>\n",
       "      <td>284807.000000</td>\n",
       "      <td>2.848070e+05</td>\n",
       "      <td>2.848070e+05</td>\n",
       "      <td>2.848070e+05</td>\n",
       "      <td>2.848070e+05</td>\n",
       "      <td>2.848070e+05</td>\n",
       "      <td>2.848070e+05</td>\n",
       "      <td>2.848070e+05</td>\n",
       "      <td>2.848070e+05</td>\n",
       "      <td>2.848070e+05</td>\n",
       "      <td>...</td>\n",
       "      <td>2.848070e+05</td>\n",
       "      <td>2.848070e+05</td>\n",
       "      <td>2.848070e+05</td>\n",
       "      <td>2.848070e+05</td>\n",
       "      <td>2.848070e+05</td>\n",
       "      <td>2.848070e+05</td>\n",
       "      <td>2.848070e+05</td>\n",
       "      <td>2.848070e+05</td>\n",
       "      <td>284807.000000</td>\n",
       "      <td>284807.000000</td>\n",
       "    </tr>\n",
       "    <tr>\n",
       "      <th>mean</th>\n",
       "      <td>94813.859575</td>\n",
       "      <td>3.919560e-15</td>\n",
       "      <td>5.688174e-16</td>\n",
       "      <td>-8.769071e-15</td>\n",
       "      <td>2.782312e-15</td>\n",
       "      <td>-1.552563e-15</td>\n",
       "      <td>2.010663e-15</td>\n",
       "      <td>-1.694249e-15</td>\n",
       "      <td>-1.927028e-16</td>\n",
       "      <td>-3.137024e-15</td>\n",
       "      <td>...</td>\n",
       "      <td>1.537294e-16</td>\n",
       "      <td>7.959909e-16</td>\n",
       "      <td>5.367590e-16</td>\n",
       "      <td>4.458112e-15</td>\n",
       "      <td>1.453003e-15</td>\n",
       "      <td>1.699104e-15</td>\n",
       "      <td>-3.660161e-16</td>\n",
       "      <td>-1.206049e-16</td>\n",
       "      <td>88.349619</td>\n",
       "      <td>0.001727</td>\n",
       "    </tr>\n",
       "    <tr>\n",
       "      <th>std</th>\n",
       "      <td>47488.145955</td>\n",
       "      <td>1.958696e+00</td>\n",
       "      <td>1.651309e+00</td>\n",
       "      <td>1.516255e+00</td>\n",
       "      <td>1.415869e+00</td>\n",
       "      <td>1.380247e+00</td>\n",
       "      <td>1.332271e+00</td>\n",
       "      <td>1.237094e+00</td>\n",
       "      <td>1.194353e+00</td>\n",
       "      <td>1.098632e+00</td>\n",
       "      <td>...</td>\n",
       "      <td>7.345240e-01</td>\n",
       "      <td>7.257016e-01</td>\n",
       "      <td>6.244603e-01</td>\n",
       "      <td>6.056471e-01</td>\n",
       "      <td>5.212781e-01</td>\n",
       "      <td>4.822270e-01</td>\n",
       "      <td>4.036325e-01</td>\n",
       "      <td>3.300833e-01</td>\n",
       "      <td>250.120109</td>\n",
       "      <td>0.041527</td>\n",
       "    </tr>\n",
       "    <tr>\n",
       "      <th>min</th>\n",
       "      <td>0.000000</td>\n",
       "      <td>-5.640751e+01</td>\n",
       "      <td>-7.271573e+01</td>\n",
       "      <td>-4.832559e+01</td>\n",
       "      <td>-5.683171e+00</td>\n",
       "      <td>-1.137433e+02</td>\n",
       "      <td>-2.616051e+01</td>\n",
       "      <td>-4.355724e+01</td>\n",
       "      <td>-7.321672e+01</td>\n",
       "      <td>-1.343407e+01</td>\n",
       "      <td>...</td>\n",
       "      <td>-3.483038e+01</td>\n",
       "      <td>-1.093314e+01</td>\n",
       "      <td>-4.480774e+01</td>\n",
       "      <td>-2.836627e+00</td>\n",
       "      <td>-1.029540e+01</td>\n",
       "      <td>-2.604551e+00</td>\n",
       "      <td>-2.256568e+01</td>\n",
       "      <td>-1.543008e+01</td>\n",
       "      <td>0.000000</td>\n",
       "      <td>0.000000</td>\n",
       "    </tr>\n",
       "    <tr>\n",
       "      <th>25%</th>\n",
       "      <td>54201.500000</td>\n",
       "      <td>-9.203734e-01</td>\n",
       "      <td>-5.985499e-01</td>\n",
       "      <td>-8.903648e-01</td>\n",
       "      <td>-8.486401e-01</td>\n",
       "      <td>-6.915971e-01</td>\n",
       "      <td>-7.682956e-01</td>\n",
       "      <td>-5.540759e-01</td>\n",
       "      <td>-2.086297e-01</td>\n",
       "      <td>-6.430976e-01</td>\n",
       "      <td>...</td>\n",
       "      <td>-2.283949e-01</td>\n",
       "      <td>-5.423504e-01</td>\n",
       "      <td>-1.618463e-01</td>\n",
       "      <td>-3.545861e-01</td>\n",
       "      <td>-3.171451e-01</td>\n",
       "      <td>-3.269839e-01</td>\n",
       "      <td>-7.083953e-02</td>\n",
       "      <td>-5.295979e-02</td>\n",
       "      <td>5.600000</td>\n",
       "      <td>0.000000</td>\n",
       "    </tr>\n",
       "    <tr>\n",
       "      <th>50%</th>\n",
       "      <td>84692.000000</td>\n",
       "      <td>1.810880e-02</td>\n",
       "      <td>6.548556e-02</td>\n",
       "      <td>1.798463e-01</td>\n",
       "      <td>-1.984653e-02</td>\n",
       "      <td>-5.433583e-02</td>\n",
       "      <td>-2.741871e-01</td>\n",
       "      <td>4.010308e-02</td>\n",
       "      <td>2.235804e-02</td>\n",
       "      <td>-5.142873e-02</td>\n",
       "      <td>...</td>\n",
       "      <td>-2.945017e-02</td>\n",
       "      <td>6.781943e-03</td>\n",
       "      <td>-1.119293e-02</td>\n",
       "      <td>4.097606e-02</td>\n",
       "      <td>1.659350e-02</td>\n",
       "      <td>-5.213911e-02</td>\n",
       "      <td>1.342146e-03</td>\n",
       "      <td>1.124383e-02</td>\n",
       "      <td>22.000000</td>\n",
       "      <td>0.000000</td>\n",
       "    </tr>\n",
       "    <tr>\n",
       "      <th>75%</th>\n",
       "      <td>139320.500000</td>\n",
       "      <td>1.315642e+00</td>\n",
       "      <td>8.037239e-01</td>\n",
       "      <td>1.027196e+00</td>\n",
       "      <td>7.433413e-01</td>\n",
       "      <td>6.119264e-01</td>\n",
       "      <td>3.985649e-01</td>\n",
       "      <td>5.704361e-01</td>\n",
       "      <td>3.273459e-01</td>\n",
       "      <td>5.971390e-01</td>\n",
       "      <td>...</td>\n",
       "      <td>1.863772e-01</td>\n",
       "      <td>5.285536e-01</td>\n",
       "      <td>1.476421e-01</td>\n",
       "      <td>4.395266e-01</td>\n",
       "      <td>3.507156e-01</td>\n",
       "      <td>2.409522e-01</td>\n",
       "      <td>9.104512e-02</td>\n",
       "      <td>7.827995e-02</td>\n",
       "      <td>77.165000</td>\n",
       "      <td>0.000000</td>\n",
       "    </tr>\n",
       "    <tr>\n",
       "      <th>max</th>\n",
       "      <td>172792.000000</td>\n",
       "      <td>2.454930e+00</td>\n",
       "      <td>2.205773e+01</td>\n",
       "      <td>9.382558e+00</td>\n",
       "      <td>1.687534e+01</td>\n",
       "      <td>3.480167e+01</td>\n",
       "      <td>7.330163e+01</td>\n",
       "      <td>1.205895e+02</td>\n",
       "      <td>2.000721e+01</td>\n",
       "      <td>1.559499e+01</td>\n",
       "      <td>...</td>\n",
       "      <td>2.720284e+01</td>\n",
       "      <td>1.050309e+01</td>\n",
       "      <td>2.252841e+01</td>\n",
       "      <td>4.584549e+00</td>\n",
       "      <td>7.519589e+00</td>\n",
       "      <td>3.517346e+00</td>\n",
       "      <td>3.161220e+01</td>\n",
       "      <td>3.384781e+01</td>\n",
       "      <td>25691.160000</td>\n",
       "      <td>1.000000</td>\n",
       "    </tr>\n",
       "  </tbody>\n",
       "</table>\n",
       "<p>8 rows × 31 columns</p>\n",
       "</div>"
      ],
      "text/plain": [
       "                Time            V1            V2            V3            V4  \\\n",
       "count  284807.000000  2.848070e+05  2.848070e+05  2.848070e+05  2.848070e+05   \n",
       "mean    94813.859575  3.919560e-15  5.688174e-16 -8.769071e-15  2.782312e-15   \n",
       "std     47488.145955  1.958696e+00  1.651309e+00  1.516255e+00  1.415869e+00   \n",
       "min         0.000000 -5.640751e+01 -7.271573e+01 -4.832559e+01 -5.683171e+00   \n",
       "25%     54201.500000 -9.203734e-01 -5.985499e-01 -8.903648e-01 -8.486401e-01   \n",
       "50%     84692.000000  1.810880e-02  6.548556e-02  1.798463e-01 -1.984653e-02   \n",
       "75%    139320.500000  1.315642e+00  8.037239e-01  1.027196e+00  7.433413e-01   \n",
       "max    172792.000000  2.454930e+00  2.205773e+01  9.382558e+00  1.687534e+01   \n",
       "\n",
       "                 V5            V6            V7            V8            V9  \\\n",
       "count  2.848070e+05  2.848070e+05  2.848070e+05  2.848070e+05  2.848070e+05   \n",
       "mean  -1.552563e-15  2.010663e-15 -1.694249e-15 -1.927028e-16 -3.137024e-15   \n",
       "std    1.380247e+00  1.332271e+00  1.237094e+00  1.194353e+00  1.098632e+00   \n",
       "min   -1.137433e+02 -2.616051e+01 -4.355724e+01 -7.321672e+01 -1.343407e+01   \n",
       "25%   -6.915971e-01 -7.682956e-01 -5.540759e-01 -2.086297e-01 -6.430976e-01   \n",
       "50%   -5.433583e-02 -2.741871e-01  4.010308e-02  2.235804e-02 -5.142873e-02   \n",
       "75%    6.119264e-01  3.985649e-01  5.704361e-01  3.273459e-01  5.971390e-01   \n",
       "max    3.480167e+01  7.330163e+01  1.205895e+02  2.000721e+01  1.559499e+01   \n",
       "\n",
       "           ...                 V21           V22           V23           V24  \\\n",
       "count      ...        2.848070e+05  2.848070e+05  2.848070e+05  2.848070e+05   \n",
       "mean       ...        1.537294e-16  7.959909e-16  5.367590e-16  4.458112e-15   \n",
       "std        ...        7.345240e-01  7.257016e-01  6.244603e-01  6.056471e-01   \n",
       "min        ...       -3.483038e+01 -1.093314e+01 -4.480774e+01 -2.836627e+00   \n",
       "25%        ...       -2.283949e-01 -5.423504e-01 -1.618463e-01 -3.545861e-01   \n",
       "50%        ...       -2.945017e-02  6.781943e-03 -1.119293e-02  4.097606e-02   \n",
       "75%        ...        1.863772e-01  5.285536e-01  1.476421e-01  4.395266e-01   \n",
       "max        ...        2.720284e+01  1.050309e+01  2.252841e+01  4.584549e+00   \n",
       "\n",
       "                V25           V26           V27           V28         Amount  \\\n",
       "count  2.848070e+05  2.848070e+05  2.848070e+05  2.848070e+05  284807.000000   \n",
       "mean   1.453003e-15  1.699104e-15 -3.660161e-16 -1.206049e-16      88.349619   \n",
       "std    5.212781e-01  4.822270e-01  4.036325e-01  3.300833e-01     250.120109   \n",
       "min   -1.029540e+01 -2.604551e+00 -2.256568e+01 -1.543008e+01       0.000000   \n",
       "25%   -3.171451e-01 -3.269839e-01 -7.083953e-02 -5.295979e-02       5.600000   \n",
       "50%    1.659350e-02 -5.213911e-02  1.342146e-03  1.124383e-02      22.000000   \n",
       "75%    3.507156e-01  2.409522e-01  9.104512e-02  7.827995e-02      77.165000   \n",
       "max    7.519589e+00  3.517346e+00  3.161220e+01  3.384781e+01   25691.160000   \n",
       "\n",
       "               Class  \n",
       "count  284807.000000  \n",
       "mean        0.001727  \n",
       "std         0.041527  \n",
       "min         0.000000  \n",
       "25%         0.000000  \n",
       "50%         0.000000  \n",
       "75%         0.000000  \n",
       "max         1.000000  \n",
       "\n",
       "[8 rows x 31 columns]"
      ]
     },
     "execution_count": 6,
     "metadata": {},
     "output_type": "execute_result"
    }
   ],
   "source": [
    "df.describe()"
   ]
  },
  {
   "cell_type": "markdown",
   "metadata": {},
   "source": [
    "#### V1...V28 are values which are obtained from PCA\n",
    "#### Time is the second elapsed between each transaction and the first transaction in the dataset\n",
    "#### Given the class imbalance ratio, we recommend measuring the accuracy using the Area Under the Precision-Recall Curve (AUPRC). \n"
   ]
  },
  {
   "cell_type": "markdown",
   "metadata": {},
   "source": [
    "<h1><center><font size=5><font color='Indigo'>**EDA**</font></font></center></h1>"
   ]
  },
  {
   "cell_type": "markdown",
   "metadata": {},
   "source": [
    "### Finding Correlation "
   ]
  },
  {
   "cell_type": "code",
   "execution_count": 7,
   "metadata": {
    "scrolled": true
   },
   "outputs": [
    {
     "data": {
      "text/plain": [
       "<matplotlib.axes._subplots.AxesSubplot at 0x24a31622940>"
      ]
     },
     "execution_count": 7,
     "metadata": {},
     "output_type": "execute_result"
    },
    {
     "data": {
      "image/png": "[encoded data removed]",
      "text/plain": [
       "<matplotlib.figure.Figure at 0x24a3162f128>"
      ]
     },
     "metadata": {},
     "output_type": "display_data"
    }
   ],
   "source": [
    "corrmat=df.corr()\n",
    "f,ax=plt.subplots(figsize=(30,15))\n",
    "sns.heatmap(corrmat,vmax=0.8,square=True,annot=True,fmt='.2f')"
   ]
  },
  {
   "cell_type": "code",
   "execution_count": 8,
   "metadata": {
    "scrolled": true
   },
   "outputs": [
    {
     "data": {
      "text/plain": [
       "Text(0,0.5,'Frequency')"
      ]
     },
     "execution_count": 8,
     "metadata": {},
     "output_type": "execute_result"
    },
    {
     "data": {
      "image/png": "[encoded data removed]",
      "text/plain": [
       "<matplotlib.figure.Figure at 0x24a3155d9b0>"
      ]
     },
     "metadata": {},
     "output_type": "display_data"
    }
   ],
   "source": [
    "count_classes = pd.value_counts(df['Class'], sort = True)\n",
    "count_classes.plot(kind = 'bar', rot=0)\n",
    "plt.title(\"Transaction Class Distribution\")\n",
    "LABELS={'Normal','Fraud'}\n",
    "plt.xticks(range(2), LABELS)\n",
    "plt.xlabel(\"Class\")\n",
    "plt.ylabel(\"Frequency\")"
   ]
  },
  {
   "cell_type": "code",
   "execution_count": 9,
   "metadata": {},
   "outputs": [],
   "source": [
    "Fraud = df[df['Class']==1]\n",
    "Normal = df[df['Class']==0]"
   ]
  },
  {
   "cell_type": "code",
   "execution_count": 10,
   "metadata": {},
   "outputs": [
    {
     "data": {
      "text/plain": [
       "(492, 31)"
      ]
     },
     "execution_count": 10,
     "metadata": {},
     "output_type": "execute_result"
    }
   ],
   "source": [
    "Fraud.shape"
   ]
  },
  {
   "cell_type": "code",
   "execution_count": 11,
   "metadata": {},
   "outputs": [
    {
     "data": {
      "text/plain": [
       "(284315, 31)"
      ]
     },
     "execution_count": 11,
     "metadata": {},
     "output_type": "execute_result"
    }
   ],
   "source": [
    "Normal.shape"
   ]
  },
  {
   "cell_type": "markdown",
   "metadata": {},
   "source": [
    "### Difference in the amount spent in both the cases"
   ]
  },
  {
   "cell_type": "code",
   "execution_count": 12,
   "metadata": {
    "scrolled": true
   },
   "outputs": [
    {
     "data": {
      "text/plain": [
       "count     492.000000\n",
       "mean      122.211321\n",
       "std       256.683288\n",
       "min         0.000000\n",
       "25%         1.000000\n",
       "50%         9.250000\n",
       "75%       105.890000\n",
       "max      2125.870000\n",
       "Name: Amount, dtype: float64"
      ]
     },
     "execution_count": 12,
     "metadata": {},
     "output_type": "execute_result"
    }
   ],
   "source": [
    "Fraud.Amount.describe()"
   ]
  },
  {
   "cell_type": "code",
   "execution_count": 13,
   "metadata": {},
   "outputs": [
    {
     "data": {
      "text/plain": [
       "count    284315.000000\n",
       "mean         88.291022\n",
       "std         250.105092\n",
       "min           0.000000\n",
       "25%           5.650000\n",
       "50%          22.000000\n",
       "75%          77.050000\n",
       "max       25691.160000\n",
       "Name: Amount, dtype: float64"
      ]
     },
     "execution_count": 13,
     "metadata": {},
     "output_type": "execute_result"
    }
   ],
   "source": [
    "Normal.Amount.describe()"
   ]
  },
  {
   "cell_type": "code",
   "execution_count": 14,
   "metadata": {
    "scrolled": true
   },
   "outputs": [
    {
     "data": {
      "image/png": "[encoded data removed]",
      "text/plain": [
       "<matplotlib.figure.Figure at 0x24a3272ceb8>"
      ]
     },
     "metadata": {},
     "output_type": "display_data"
    }
   ],
   "source": [
    "f, (ax1, ax2) = plt.subplots(2, 1, sharex=True,figsize=(15,5))\n",
    "f.suptitle('Amount per transaction by class')\n",
    "bins = 20\n",
    "ax1.hist(Fraud.Amount, bins = bins)\n",
    "ax1.set_title('Fraud')\n",
    "ax2.hist(Normal.Amount, bins = bins)\n",
    "ax2.set_title('Normal')\n",
    "plt.xlabel('Amount ($)')\n",
    "plt.ylabel('Number of Transactions')\n",
    "plt.xlim((0, 20000))\n",
    "plt.yscale('log')\n",
    "plt.show()"
   ]
  },
  {
   "cell_type": "markdown",
   "metadata": {},
   "source": [
    "### Do fraudulent transactions occur during a certain time frame?"
   ]
  },
  {
   "cell_type": "code",
   "execution_count": 15,
   "metadata": {
    "scrolled": true
   },
   "outputs": [
    {
     "data": {
      "image/png": "[encoded data removed]",
      "text/plain": [
       "<matplotlib.figure.Figure at 0x24a31b98ba8>"
      ]
     },
     "metadata": {},
     "output_type": "display_data"
    }
   ],
   "source": [
    "f, (ax1, ax2) = plt.subplots(2, 1, sharex=True,figsize=(15,5))\n",
    "f.suptitle('Time of transaction vs Amount by class')\n",
    "ax1.scatter(Fraud.Time, Fraud.Amount)\n",
    "ax1.set_title('Fraud')\n",
    "ax2.scatter(Normal.Time, Normal.Amount)\n",
    "ax2.set_title('Normal')\n",
    "plt.xlabel('Time (in Seconds)')\n",
    "plt.ylabel('Amount')\n",
    "plt.show()"
   ]
  },
  {
   "cell_type": "markdown",
   "metadata": {},
   "source": [
    "### Scaling the value of Amount"
   ]
  },
  {
   "cell_type": "code",
   "execution_count": 16,
   "metadata": {},
   "outputs": [
    {
     "name": "stderr",
     "output_type": "stream",
     "text": [
      "C:\\Users\\vibhanshuv\\AppData\\Local\\Continuum\\anaconda3\\lib\\site-packages\\ipykernel_launcher.py:3: FutureWarning: reshape is deprecated and will raise in a subsequent release. Please use .values.reshape(...) instead\n",
      "  This is separate from the ipykernel package so we can avoid doing imports until\n"
     ]
    },
    {
     "data": {
      "text/html": [
       "<div>\n",
       "<style scoped>\n",
       "    .dataframe tbody tr th:only-of-type {\n",
       "        vertical-align: middle;\n",
       "    }\n",
       "\n",
       "    .dataframe tbody tr th {\n",
       "        vertical-align: top;\n",
       "    }\n",
       "\n",
       "    .dataframe thead th {\n",
       "        text-align: right;\n",
       "    }\n",
       "</style>\n",
       "<table border=\"1\" class=\"dataframe\">\n",
       "  <thead>\n",
       "    <tr style=\"text-align: right;\">\n",
       "      <th></th>\n",
       "      <th>Time</th>\n",
       "      <th>V1</th>\n",
       "      <th>V2</th>\n",
       "      <th>V3</th>\n",
       "      <th>V4</th>\n",
       "      <th>V5</th>\n",
       "      <th>V6</th>\n",
       "      <th>V7</th>\n",
       "      <th>V8</th>\n",
       "      <th>V9</th>\n",
       "      <th>...</th>\n",
       "      <th>V22</th>\n",
       "      <th>V23</th>\n",
       "      <th>V24</th>\n",
       "      <th>V25</th>\n",
       "      <th>V26</th>\n",
       "      <th>V27</th>\n",
       "      <th>V28</th>\n",
       "      <th>Amount</th>\n",
       "      <th>Class</th>\n",
       "      <th>normAmount</th>\n",
       "    </tr>\n",
       "  </thead>\n",
       "  <tbody>\n",
       "    <tr>\n",
       "      <th>0</th>\n",
       "      <td>0.0</td>\n",
       "      <td>-1.359807</td>\n",
       "      <td>-0.072781</td>\n",
       "      <td>2.536347</td>\n",
       "      <td>1.378155</td>\n",
       "      <td>-0.338321</td>\n",
       "      <td>0.462388</td>\n",
       "      <td>0.239599</td>\n",
       "      <td>0.098698</td>\n",
       "      <td>0.363787</td>\n",
       "      <td>...</td>\n",
       "      <td>0.277838</td>\n",
       "      <td>-0.110474</td>\n",
       "      <td>0.066928</td>\n",
       "      <td>0.128539</td>\n",
       "      <td>-0.189115</td>\n",
       "      <td>0.133558</td>\n",
       "      <td>-0.021053</td>\n",
       "      <td>149.62</td>\n",
       "      <td>0</td>\n",
       "      <td>0.244964</td>\n",
       "    </tr>\n",
       "    <tr>\n",
       "      <th>1</th>\n",
       "      <td>0.0</td>\n",
       "      <td>1.191857</td>\n",
       "      <td>0.266151</td>\n",
       "      <td>0.166480</td>\n",
       "      <td>0.448154</td>\n",
       "      <td>0.060018</td>\n",
       "      <td>-0.082361</td>\n",
       "      <td>-0.078803</td>\n",
       "      <td>0.085102</td>\n",
       "      <td>-0.255425</td>\n",
       "      <td>...</td>\n",
       "      <td>-0.638672</td>\n",
       "      <td>0.101288</td>\n",
       "      <td>-0.339846</td>\n",
       "      <td>0.167170</td>\n",
       "      <td>0.125895</td>\n",
       "      <td>-0.008983</td>\n",
       "      <td>0.014724</td>\n",
       "      <td>2.69</td>\n",
       "      <td>0</td>\n",
       "      <td>-0.342475</td>\n",
       "    </tr>\n",
       "    <tr>\n",
       "      <th>2</th>\n",
       "      <td>1.0</td>\n",
       "      <td>-1.358354</td>\n",
       "      <td>-1.340163</td>\n",
       "      <td>1.773209</td>\n",
       "      <td>0.379780</td>\n",
       "      <td>-0.503198</td>\n",
       "      <td>1.800499</td>\n",
       "      <td>0.791461</td>\n",
       "      <td>0.247676</td>\n",
       "      <td>-1.514654</td>\n",
       "      <td>...</td>\n",
       "      <td>0.771679</td>\n",
       "      <td>0.909412</td>\n",
       "      <td>-0.689281</td>\n",
       "      <td>-0.327642</td>\n",
       "      <td>-0.139097</td>\n",
       "      <td>-0.055353</td>\n",
       "      <td>-0.059752</td>\n",
       "      <td>378.66</td>\n",
       "      <td>0</td>\n",
       "      <td>1.160686</td>\n",
       "    </tr>\n",
       "    <tr>\n",
       "      <th>3</th>\n",
       "      <td>1.0</td>\n",
       "      <td>-0.966272</td>\n",
       "      <td>-0.185226</td>\n",
       "      <td>1.792993</td>\n",
       "      <td>-0.863291</td>\n",
       "      <td>-0.010309</td>\n",
       "      <td>1.247203</td>\n",
       "      <td>0.237609</td>\n",
       "      <td>0.377436</td>\n",
       "      <td>-1.387024</td>\n",
       "      <td>...</td>\n",
       "      <td>0.005274</td>\n",
       "      <td>-0.190321</td>\n",
       "      <td>-1.175575</td>\n",
       "      <td>0.647376</td>\n",
       "      <td>-0.221929</td>\n",
       "      <td>0.062723</td>\n",
       "      <td>0.061458</td>\n",
       "      <td>123.50</td>\n",
       "      <td>0</td>\n",
       "      <td>0.140534</td>\n",
       "    </tr>\n",
       "    <tr>\n",
       "      <th>4</th>\n",
       "      <td>2.0</td>\n",
       "      <td>-1.158233</td>\n",
       "      <td>0.877737</td>\n",
       "      <td>1.548718</td>\n",
       "      <td>0.403034</td>\n",
       "      <td>-0.407193</td>\n",
       "      <td>0.095921</td>\n",
       "      <td>0.592941</td>\n",
       "      <td>-0.270533</td>\n",
       "      <td>0.817739</td>\n",
       "      <td>...</td>\n",
       "      <td>0.798278</td>\n",
       "      <td>-0.137458</td>\n",
       "      <td>0.141267</td>\n",
       "      <td>-0.206010</td>\n",
       "      <td>0.502292</td>\n",
       "      <td>0.219422</td>\n",
       "      <td>0.215153</td>\n",
       "      <td>69.99</td>\n",
       "      <td>0</td>\n",
       "      <td>-0.073403</td>\n",
       "    </tr>\n",
       "  </tbody>\n",
       "</table>\n",
       "<p>5 rows × 32 columns</p>\n",
       "</div>"
      ],
      "text/plain": [
       "   Time        V1        V2        V3        V4        V5        V6        V7  \\\n",
       "0   0.0 -1.359807 -0.072781  2.536347  1.378155 -0.338321  0.462388  0.239599   \n",
       "1   0.0  1.191857  0.266151  0.166480  0.448154  0.060018 -0.082361 -0.078803   \n",
       "2   1.0 -1.358354 -1.340163  1.773209  0.379780 -0.503198  1.800499  0.791461   \n",
       "3   1.0 -0.966272 -0.185226  1.792993 -0.863291 -0.010309  1.247203  0.237609   \n",
       "4   2.0 -1.158233  0.877737  1.548718  0.403034 -0.407193  0.095921  0.592941   \n",
       "\n",
       "         V8        V9     ...           V22       V23       V24       V25  \\\n",
       "0  0.098698  0.363787     ...      0.277838 -0.110474  0.066928  0.128539   \n",
       "1  0.085102 -0.255425     ...     -0.638672  0.101288 -0.339846  0.167170   \n",
       "2  0.247676 -1.514654     ...      0.771679  0.909412 -0.689281 -0.327642   \n",
       "3  0.377436 -1.387024     ...      0.005274 -0.190321 -1.175575  0.647376   \n",
       "4 -0.270533  0.817739     ...      0.798278 -0.137458  0.141267 -0.206010   \n",
       "\n",
       "        V26       V27       V28  Amount  Class  normAmount  \n",
       "0 -0.189115  0.133558 -0.021053  149.62      0    0.244964  \n",
       "1  0.125895 -0.008983  0.014724    2.69      0   -0.342475  \n",
       "2 -0.139097 -0.055353 -0.059752  378.66      0    1.160686  \n",
       "3 -0.221929  0.062723  0.061458  123.50      0    0.140534  \n",
       "4  0.502292  0.219422  0.215153   69.99      0   -0.073403  \n",
       "\n",
       "[5 rows x 32 columns]"
      ]
     },
     "execution_count": 16,
     "metadata": {},
     "output_type": "execute_result"
    }
   ],
   "source": [
    "from sklearn.preprocessing import StandardScaler\n",
    "\n",
    "df['normAmount'] = StandardScaler().fit_transform(df['Amount'].reshape(-1, 1))\n",
    "df.head()"
   ]
  },
  {
   "cell_type": "markdown",
   "metadata": {},
   "source": [
    "### Splitting into X_train and X_test"
   ]
  },
  {
   "cell_type": "code",
   "execution_count": 17,
   "metadata": {
    "scrolled": true
   },
   "outputs": [
    {
     "data": {
      "text/html": [
       "<div>\n",
       "<style scoped>\n",
       "    .dataframe tbody tr th:only-of-type {\n",
       "        vertical-align: middle;\n",
       "    }\n",
       "\n",
       "    .dataframe tbody tr th {\n",
       "        vertical-align: top;\n",
       "    }\n",
       "\n",
       "    .dataframe thead th {\n",
       "        text-align: right;\n",
       "    }\n",
       "</style>\n",
       "<table border=\"1\" class=\"dataframe\">\n",
       "  <thead>\n",
       "    <tr style=\"text-align: right;\">\n",
       "      <th></th>\n",
       "      <th>V1</th>\n",
       "      <th>V2</th>\n",
       "      <th>V3</th>\n",
       "      <th>V4</th>\n",
       "      <th>V5</th>\n",
       "      <th>V6</th>\n",
       "      <th>V7</th>\n",
       "      <th>V8</th>\n",
       "      <th>V9</th>\n",
       "      <th>V10</th>\n",
       "      <th>...</th>\n",
       "      <th>V21</th>\n",
       "      <th>V22</th>\n",
       "      <th>V23</th>\n",
       "      <th>V24</th>\n",
       "      <th>V25</th>\n",
       "      <th>V26</th>\n",
       "      <th>V27</th>\n",
       "      <th>V28</th>\n",
       "      <th>Class</th>\n",
       "      <th>normAmount</th>\n",
       "    </tr>\n",
       "  </thead>\n",
       "  <tbody>\n",
       "    <tr>\n",
       "      <th>0</th>\n",
       "      <td>-1.359807</td>\n",
       "      <td>-0.072781</td>\n",
       "      <td>2.536347</td>\n",
       "      <td>1.378155</td>\n",
       "      <td>-0.338321</td>\n",
       "      <td>0.462388</td>\n",
       "      <td>0.239599</td>\n",
       "      <td>0.098698</td>\n",
       "      <td>0.363787</td>\n",
       "      <td>0.090794</td>\n",
       "      <td>...</td>\n",
       "      <td>-0.018307</td>\n",
       "      <td>0.277838</td>\n",
       "      <td>-0.110474</td>\n",
       "      <td>0.066928</td>\n",
       "      <td>0.128539</td>\n",
       "      <td>-0.189115</td>\n",
       "      <td>0.133558</td>\n",
       "      <td>-0.021053</td>\n",
       "      <td>0</td>\n",
       "      <td>0.244964</td>\n",
       "    </tr>\n",
       "    <tr>\n",
       "      <th>1</th>\n",
       "      <td>1.191857</td>\n",
       "      <td>0.266151</td>\n",
       "      <td>0.166480</td>\n",
       "      <td>0.448154</td>\n",
       "      <td>0.060018</td>\n",
       "      <td>-0.082361</td>\n",
       "      <td>-0.078803</td>\n",
       "      <td>0.085102</td>\n",
       "      <td>-0.255425</td>\n",
       "      <td>-0.166974</td>\n",
       "      <td>...</td>\n",
       "      <td>-0.225775</td>\n",
       "      <td>-0.638672</td>\n",
       "      <td>0.101288</td>\n",
       "      <td>-0.339846</td>\n",
       "      <td>0.167170</td>\n",
       "      <td>0.125895</td>\n",
       "      <td>-0.008983</td>\n",
       "      <td>0.014724</td>\n",
       "      <td>0</td>\n",
       "      <td>-0.342475</td>\n",
       "    </tr>\n",
       "    <tr>\n",
       "      <th>2</th>\n",
       "      <td>-1.358354</td>\n",
       "      <td>-1.340163</td>\n",
       "      <td>1.773209</td>\n",
       "      <td>0.379780</td>\n",
       "      <td>-0.503198</td>\n",
       "      <td>1.800499</td>\n",
       "      <td>0.791461</td>\n",
       "      <td>0.247676</td>\n",
       "      <td>-1.514654</td>\n",
       "      <td>0.207643</td>\n",
       "      <td>...</td>\n",
       "      <td>0.247998</td>\n",
       "      <td>0.771679</td>\n",
       "      <td>0.909412</td>\n",
       "      <td>-0.689281</td>\n",
       "      <td>-0.327642</td>\n",
       "      <td>-0.139097</td>\n",
       "      <td>-0.055353</td>\n",
       "      <td>-0.059752</td>\n",
       "      <td>0</td>\n",
       "      <td>1.160686</td>\n",
       "    </tr>\n",
       "    <tr>\n",
       "      <th>3</th>\n",
       "      <td>-0.966272</td>\n",
       "      <td>-0.185226</td>\n",
       "      <td>1.792993</td>\n",
       "      <td>-0.863291</td>\n",
       "      <td>-0.010309</td>\n",
       "      <td>1.247203</td>\n",
       "      <td>0.237609</td>\n",
       "      <td>0.377436</td>\n",
       "      <td>-1.387024</td>\n",
       "      <td>-0.054952</td>\n",
       "      <td>...</td>\n",
       "      <td>-0.108300</td>\n",
       "      <td>0.005274</td>\n",
       "      <td>-0.190321</td>\n",
       "      <td>-1.175575</td>\n",
       "      <td>0.647376</td>\n",
       "      <td>-0.221929</td>\n",
       "      <td>0.062723</td>\n",
       "      <td>0.061458</td>\n",
       "      <td>0</td>\n",
       "      <td>0.140534</td>\n",
       "    </tr>\n",
       "    <tr>\n",
       "      <th>4</th>\n",
       "      <td>-1.158233</td>\n",
       "      <td>0.877737</td>\n",
       "      <td>1.548718</td>\n",
       "      <td>0.403034</td>\n",
       "      <td>-0.407193</td>\n",
       "      <td>0.095921</td>\n",
       "      <td>0.592941</td>\n",
       "      <td>-0.270533</td>\n",
       "      <td>0.817739</td>\n",
       "      <td>0.753074</td>\n",
       "      <td>...</td>\n",
       "      <td>-0.009431</td>\n",
       "      <td>0.798278</td>\n",
       "      <td>-0.137458</td>\n",
       "      <td>0.141267</td>\n",
       "      <td>-0.206010</td>\n",
       "      <td>0.502292</td>\n",
       "      <td>0.219422</td>\n",
       "      <td>0.215153</td>\n",
       "      <td>0</td>\n",
       "      <td>-0.073403</td>\n",
       "    </tr>\n",
       "  </tbody>\n",
       "</table>\n",
       "<p>5 rows × 30 columns</p>\n",
       "</div>"
      ],
      "text/plain": [
       "         V1        V2        V3        V4        V5        V6        V7  \\\n",
       "0 -1.359807 -0.072781  2.536347  1.378155 -0.338321  0.462388  0.239599   \n",
       "1  1.191857  0.266151  0.166480  0.448154  0.060018 -0.082361 -0.078803   \n",
       "2 -1.358354 -1.340163  1.773209  0.379780 -0.503198  1.800499  0.791461   \n",
       "3 -0.966272 -0.185226  1.792993 -0.863291 -0.010309  1.247203  0.237609   \n",
       "4 -1.158233  0.877737  1.548718  0.403034 -0.407193  0.095921  0.592941   \n",
       "\n",
       "         V8        V9       V10     ...           V21       V22       V23  \\\n",
       "0  0.098698  0.363787  0.090794     ...     -0.018307  0.277838 -0.110474   \n",
       "1  0.085102 -0.255425 -0.166974     ...     -0.225775 -0.638672  0.101288   \n",
       "2  0.247676 -1.514654  0.207643     ...      0.247998  0.771679  0.909412   \n",
       "3  0.377436 -1.387024 -0.054952     ...     -0.108300  0.005274 -0.190321   \n",
       "4 -0.270533  0.817739  0.753074     ...     -0.009431  0.798278 -0.137458   \n",
       "\n",
       "        V24       V25       V26       V27       V28  Class  normAmount  \n",
       "0  0.066928  0.128539 -0.189115  0.133558 -0.021053      0    0.244964  \n",
       "1 -0.339846  0.167170  0.125895 -0.008983  0.014724      0   -0.342475  \n",
       "2 -0.689281 -0.327642 -0.139097 -0.055353 -0.059752      0    1.160686  \n",
       "3 -1.175575  0.647376 -0.221929  0.062723  0.061458      0    0.140534  \n",
       "4  0.141267 -0.206010  0.502292  0.219422  0.215153      0   -0.073403  \n",
       "\n",
       "[5 rows x 30 columns]"
      ]
     },
     "execution_count": 17,
     "metadata": {},
     "output_type": "execute_result"
    }
   ],
   "source": [
    "df = df.drop(['Time', 'Amount'], axis=1)\n",
    "df.head()"
   ]
  },
  {
   "cell_type": "code",
   "execution_count": 18,
   "metadata": {
    "scrolled": true
   },
   "outputs": [
    {
     "name": "stderr",
     "output_type": "stream",
     "text": [
      "C:\\Users\\vibhanshuv\\AppData\\Local\\Continuum\\anaconda3\\lib\\site-packages\\ipykernel_launcher.py:1: DeprecationWarning: \n",
      ".ix is deprecated. Please use\n",
      ".loc for label based indexing or\n",
      ".iloc for positional indexing\n",
      "\n",
      "See the documentation here:\n",
      "http://pandas.pydata.org/pandas-docs/stable/indexing.html#ix-indexer-is-deprecated\n",
      "  \"\"\"Entry point for launching an IPython kernel.\n"
     ]
    }
   ],
   "source": [
    "X = np.array(df.ix[:, df.columns != 'Class'])\n",
    "y = np.array(df.ix[:, df.columns == 'Class'])"
   ]
  },
  {
   "cell_type": "code",
   "execution_count": 19,
   "metadata": {},
   "outputs": [],
   "source": [
    "X_train, X_test, y_train, y_test = train_test_split(X, y, test_size=0.3, random_state=0)"
   ]
  },
  {
   "cell_type": "code",
   "execution_count": 20,
   "metadata": {},
   "outputs": [
    {
     "name": "stdout",
     "output_type": "stream",
     "text": [
      "Number transactions X_train dataset:  (199364, 29)\n",
      "Number transactions y_train dataset:  (199364, 1)\n",
      "Number transactions X_test dataset:  (85443, 29)\n",
      "Number transactions y_test dataset:  (85443, 1)\n"
     ]
    }
   ],
   "source": [
    "print(\"Number transactions X_train dataset: \", X_train.shape)\n",
    "print(\"Number transactions y_train dataset: \", y_train.shape)\n",
    "print(\"Number transactions X_test dataset: \", X_test.shape)\n",
    "print(\"Number transactions y_test dataset: \", y_test.shape)"
   ]
  },
  {
   "cell_type": "markdown",
   "metadata": {},
   "source": [
    "<h1><center><font size=5><font color='Indigo'>**Sampling**</font></font></center></h1>"
   ]
  },
  {
   "cell_type": "markdown",
   "metadata": {},
   "source": [
    "### Random UnderSampling"
   ]
  },
  {
   "cell_type": "code",
   "execution_count": 156,
   "metadata": {},
   "outputs": [],
   "source": [
    "from imblearn.under_sampling import RandomUnderSampler\n",
    "\n",
    "rus = RandomUnderSampler(return_indices=True)\n",
    "X_rus, y_rus, id_rus = rus.fit_sample(X_train, y_train)"
   ]
  },
  {
   "cell_type": "code",
   "execution_count": 161,
   "metadata": {},
   "outputs": [
    {
     "name": "stderr",
     "output_type": "stream",
     "text": [
      "C:\\Users\\vibhanshuv\\AppData\\Local\\Continuum\\anaconda3\\lib\\site-packages\\sklearn\\utils\\validation.py:578: DataConversionWarning: A column-vector y was passed when a 1d array was expected. Please change the shape of y to (n_samples, ), for example using ravel().\n",
      "  y = column_or_1d(y, warn=True)\n"
     ]
    },
    {
     "data": {
      "text/plain": [
       "AdaBoostClassifier(algorithm='SAMME.R', base_estimator=None,\n",
       "          learning_rate=1.0, n_estimators=50, random_state=None)"
      ]
     },
     "execution_count": 161,
     "metadata": {},
     "output_type": "execute_result"
    }
   ],
   "source": [
    "from sklearn.ensemble import AdaBoostClassifier\n",
    "model = AdaBoostClassifier()\n",
    "model.fit(X_rus,y_rus)"
   ]
  },
  {
   "cell_type": "code",
   "execution_count": 168,
   "metadata": {},
   "outputs": [],
   "source": [
    "y_pred_sample_score=model.decision_function(X_test)"
   ]
  },
  {
   "cell_type": "code",
   "execution_count": 171,
   "metadata": {},
   "outputs": [
    {
     "data": {
      "text/plain": [
       "array([ 0.11530009, -0.12124037, -0.18028226, ..., -0.04525236,\n",
       "       -0.18079565, -0.12757438])"
      ]
     },
     "execution_count": 171,
     "metadata": {},
     "output_type": "execute_result"
    }
   ],
   "source": [
    "y_pred_sample_score"
   ]
  },
  {
   "cell_type": "code",
   "execution_count": 169,
   "metadata": {},
   "outputs": [
    {
     "data": {
      "text/plain": [
       "0.974262456342507"
      ]
     },
     "execution_count": 169,
     "metadata": {},
     "output_type": "execute_result"
    }
   ],
   "source": [
    "roc_auc_score(y_test, y_pred_sample_score)"
   ]
  },
  {
   "cell_type": "code",
   "execution_count": 170,
   "metadata": {},
   "outputs": [
    {
     "data": {
      "text/plain": [
       "0.5247082569650984"
      ]
     },
     "execution_count": 170,
     "metadata": {},
     "output_type": "execute_result"
    }
   ],
   "source": [
    "average_precision_score(y_test, y_pred_sample_score)"
   ]
  },
  {
   "cell_type": "markdown",
   "metadata": {},
   "source": [
    "### Random OverSampling"
   ]
  },
  {
   "cell_type": "code",
   "execution_count": 184,
   "metadata": {},
   "outputs": [
    {
     "name": "stderr",
     "output_type": "stream",
     "text": [
      "C:\\Users\\vibhanshuv\\AppData\\Local\\Continuum\\anaconda3\\lib\\site-packages\\sklearn\\utils\\validation.py:578: DataConversionWarning: A column-vector y was passed when a 1d array was expected. Please change the shape of y to (n_samples, ), for example using ravel().\n",
      "  y = column_or_1d(y, warn=True)\n"
     ]
    }
   ],
   "source": [
    "from imblearn.over_sampling import RandomOverSampler\n",
    "ros = RandomOverSampler()\n",
    "X_ros, y_ros = ros.fit_sample(X_train, y_train)"
   ]
  },
  {
   "cell_type": "code",
   "execution_count": 185,
   "metadata": {},
   "outputs": [
    {
     "data": {
      "text/plain": [
       "AdaBoostClassifier(algorithm='SAMME.R', base_estimator=None,\n",
       "          learning_rate=1.0, n_estimators=50, random_state=None)"
      ]
     },
     "execution_count": 185,
     "metadata": {},
     "output_type": "execute_result"
    }
   ],
   "source": [
    "from sklearn.ensemble import AdaBoostClassifier\n",
    "model = AdaBoostClassifier()\n",
    "model.fit(X_ros,y_ros)"
   ]
  },
  {
   "cell_type": "code",
   "execution_count": 186,
   "metadata": {},
   "outputs": [],
   "source": [
    "y_true=model.decision_function(X_test)"
   ]
  },
  {
   "cell_type": "code",
   "execution_count": 187,
   "metadata": {},
   "outputs": [
    {
     "data": {
      "text/plain": [
       "0.9617633256641617"
      ]
     },
     "execution_count": 187,
     "metadata": {},
     "output_type": "execute_result"
    }
   ],
   "source": [
    "roc_auc_score(y_test, y_true)"
   ]
  },
  {
   "cell_type": "code",
   "execution_count": 188,
   "metadata": {},
   "outputs": [
    {
     "data": {
      "text/plain": [
       "0.7413759779285529"
      ]
     },
     "execution_count": 188,
     "metadata": {},
     "output_type": "execute_result"
    }
   ],
   "source": [
    "average_precision_score(y_test, y_true)"
   ]
  },
  {
   "cell_type": "markdown",
   "metadata": {},
   "source": [
    "###  Tomek links (removing the neighbour which is of majority class)"
   ]
  },
  {
   "cell_type": "code",
   "execution_count": 189,
   "metadata": {},
   "outputs": [
    {
     "name": "stderr",
     "output_type": "stream",
     "text": [
      "C:\\Users\\vibhanshuv\\AppData\\Local\\Continuum\\anaconda3\\lib\\site-packages\\sklearn\\utils\\validation.py:578: DataConversionWarning: A column-vector y was passed when a 1d array was expected. Please change the shape of y to (n_samples, ), for example using ravel().\n",
      "  y = column_or_1d(y, warn=True)\n"
     ]
    }
   ],
   "source": [
    "from imblearn.under_sampling import TomekLinks\n",
    "\n",
    "tl = TomekLinks(return_indices=True, ratio='majority')\n",
    "X_tl, y_tl, id_tl = tl.fit_sample(X_train, y_train)"
   ]
  },
  {
   "cell_type": "code",
   "execution_count": 190,
   "metadata": {},
   "outputs": [
    {
     "data": {
      "text/plain": [
       "AdaBoostClassifier(algorithm='SAMME.R', base_estimator=None,\n",
       "          learning_rate=1.0, n_estimators=50, random_state=None)"
      ]
     },
     "execution_count": 190,
     "metadata": {},
     "output_type": "execute_result"
    }
   ],
   "source": [
    "from sklearn.ensemble import AdaBoostClassifier\n",
    "model = AdaBoostClassifier()\n",
    "model.fit(X_tl, y_tl)"
   ]
  },
  {
   "cell_type": "code",
   "execution_count": 191,
   "metadata": {},
   "outputs": [],
   "source": [
    "y_true=model.decision_function(X_test)"
   ]
  },
  {
   "cell_type": "code",
   "execution_count": 192,
   "metadata": {},
   "outputs": [
    {
     "data": {
      "text/plain": [
       "0.9701842610989246"
      ]
     },
     "execution_count": 192,
     "metadata": {},
     "output_type": "execute_result"
    }
   ],
   "source": [
    "roc_auc_score(y_test, y_true)"
   ]
  },
  {
   "cell_type": "code",
   "execution_count": 193,
   "metadata": {},
   "outputs": [
    {
     "data": {
      "text/plain": [
       "0.7614550005776494"
      ]
     },
     "execution_count": 193,
     "metadata": {},
     "output_type": "execute_result"
    }
   ],
   "source": [
    "average_precision_score(y_test, y_true)"
   ]
  },
  {
   "cell_type": "markdown",
   "metadata": {},
   "source": [
    "### Under-sampling: Cluster Centroids"
   ]
  },
  {
   "cell_type": "code",
   "execution_count": 194,
   "metadata": {},
   "outputs": [
    {
     "name": "stderr",
     "output_type": "stream",
     "text": [
      "C:\\Users\\vibhanshuv\\AppData\\Local\\Continuum\\anaconda3\\lib\\site-packages\\sklearn\\utils\\validation.py:578: DataConversionWarning: A column-vector y was passed when a 1d array was expected. Please change the shape of y to (n_samples, ), for example using ravel().\n",
      "  y = column_or_1d(y, warn=True)\n"
     ]
    }
   ],
   "source": [
    "from imblearn.under_sampling import ClusterCentroids\n",
    "\n",
    "cc = ClusterCentroids(ratio={0: 10})\n",
    "X_cc, y_cc = cc.fit_sample(X_train, y_train)"
   ]
  },
  {
   "cell_type": "code",
   "execution_count": 195,
   "metadata": {},
   "outputs": [
    {
     "data": {
      "text/plain": [
       "AdaBoostClassifier(algorithm='SAMME.R', base_estimator=None,\n",
       "          learning_rate=1.0, n_estimators=50, random_state=None)"
      ]
     },
     "execution_count": 195,
     "metadata": {},
     "output_type": "execute_result"
    }
   ],
   "source": [
    "from sklearn.ensemble import AdaBoostClassifier\n",
    "model = AdaBoostClassifier()\n",
    "model.fit(X_cc, y_cc)"
   ]
  },
  {
   "cell_type": "code",
   "execution_count": 196,
   "metadata": {},
   "outputs": [],
   "source": [
    "y_true=model.decision_function(X_test)"
   ]
  },
  {
   "cell_type": "code",
   "execution_count": 197,
   "metadata": {},
   "outputs": [
    {
     "data": {
      "text/plain": [
       "0.941986816298457"
      ]
     },
     "execution_count": 197,
     "metadata": {},
     "output_type": "execute_result"
    }
   ],
   "source": [
    "roc_auc_score(y_test, y_true)"
   ]
  },
  {
   "cell_type": "code",
   "execution_count": 198,
   "metadata": {},
   "outputs": [
    {
     "data": {
      "text/plain": [
       "0.10581356666792367"
      ]
     },
     "execution_count": 198,
     "metadata": {},
     "output_type": "execute_result"
    }
   ],
   "source": [
    "average_precision_score(y_test, y_true)"
   ]
  },
  {
   "cell_type": "markdown",
   "metadata": {},
   "source": [
    "### Smote"
   ]
  },
  {
   "cell_type": "code",
   "execution_count": 199,
   "metadata": {},
   "outputs": [
    {
     "name": "stderr",
     "output_type": "stream",
     "text": [
      "C:\\Users\\vibhanshuv\\AppData\\Local\\Continuum\\anaconda3\\lib\\site-packages\\sklearn\\utils\\validation.py:578: DataConversionWarning: A column-vector y was passed when a 1d array was expected. Please change the shape of y to (n_samples, ), for example using ravel().\n",
      "  y = column_or_1d(y, warn=True)\n"
     ]
    }
   ],
   "source": [
    "from imblearn.over_sampling import SMOTE\n",
    "\n",
    "smote = SMOTE(ratio='minority')\n",
    "X_sm, y_sm = smote.fit_sample(X_train, y_train)"
   ]
  },
  {
   "cell_type": "code",
   "execution_count": 200,
   "metadata": {},
   "outputs": [
    {
     "data": {
      "text/plain": [
       "AdaBoostClassifier(algorithm='SAMME.R', base_estimator=None,\n",
       "          learning_rate=1.0, n_estimators=50, random_state=None)"
      ]
     },
     "execution_count": 200,
     "metadata": {},
     "output_type": "execute_result"
    }
   ],
   "source": [
    "from sklearn.ensemble import AdaBoostClassifier\n",
    "model = AdaBoostClassifier()\n",
    "model.fit(X_sm, y_sm)"
   ]
  },
  {
   "cell_type": "code",
   "execution_count": 201,
   "metadata": {},
   "outputs": [],
   "source": [
    "y_true=model.decision_function(X_test)"
   ]
  },
  {
   "cell_type": "code",
   "execution_count": 202,
   "metadata": {},
   "outputs": [
    {
     "data": {
      "text/plain": [
       "0.9661086578694505"
      ]
     },
     "execution_count": 202,
     "metadata": {},
     "output_type": "execute_result"
    }
   ],
   "source": [
    "roc_auc_score(y_test, y_true)"
   ]
  },
  {
   "cell_type": "code",
   "execution_count": 203,
   "metadata": {},
   "outputs": [
    {
     "data": {
      "text/plain": [
       "0.770757041781984"
      ]
     },
     "execution_count": 203,
     "metadata": {},
     "output_type": "execute_result"
    }
   ],
   "source": [
    "average_precision_score(y_test, y_true)"
   ]
  },
  {
   "cell_type": "markdown",
   "metadata": {},
   "source": [
    "### Over-sampling followed by under-sampling (SMOTE+TOMEK)"
   ]
  },
  {
   "cell_type": "code",
   "execution_count": 214,
   "metadata": {},
   "outputs": [
    {
     "name": "stderr",
     "output_type": "stream",
     "text": [
      "C:\\Users\\vibhanshuv\\AppData\\Local\\Continuum\\anaconda3\\lib\\site-packages\\sklearn\\utils\\validation.py:578: DataConversionWarning: A column-vector y was passed when a 1d array was expected. Please change the shape of y to (n_samples, ), for example using ravel().\n",
      "  y = column_or_1d(y, warn=True)\n"
     ]
    }
   ],
   "source": [
    "from imblearn.combine import SMOTETomek\n",
    "\n",
    "smt = SMOTETomek(ratio='auto')\n",
    "X_smt, y_smt = smt.fit_sample(X_train, y_train)"
   ]
  },
  {
   "cell_type": "code",
   "execution_count": 215,
   "metadata": {},
   "outputs": [
    {
     "data": {
      "text/plain": [
       "AdaBoostClassifier(algorithm='SAMME.R', base_estimator=None,\n",
       "          learning_rate=1.0, n_estimators=50, random_state=None)"
      ]
     },
     "execution_count": 215,
     "metadata": {},
     "output_type": "execute_result"
    }
   ],
   "source": [
    "from sklearn.ensemble import AdaBoostClassifier\n",
    "model = AdaBoostClassifier()\n",
    "model.fit(X_smt, y_smt)"
   ]
  },
  {
   "cell_type": "code",
   "execution_count": 216,
   "metadata": {},
   "outputs": [],
   "source": [
    "y_true=model.decision_function(X_test)"
   ]
  },
  {
   "cell_type": "code",
   "execution_count": 217,
   "metadata": {},
   "outputs": [
    {
     "data": {
      "text/plain": [
       "0.9635913735218342"
      ]
     },
     "execution_count": 217,
     "metadata": {},
     "output_type": "execute_result"
    }
   ],
   "source": [
    "roc_auc_score(y_test, y_true)"
   ]
  },
  {
   "cell_type": "code",
   "execution_count": 218,
   "metadata": {},
   "outputs": [
    {
     "data": {
      "text/plain": [
       "0.7822991427113013"
      ]
     },
     "execution_count": 218,
     "metadata": {},
     "output_type": "execute_result"
    }
   ],
   "source": [
    "average_precision_score(y_test, y_true)"
   ]
  },
  {
   "cell_type": "markdown",
   "metadata": {},
   "source": [
    "### Over-sampling followed by under-sampling (SMOTE+ENN)"
   ]
  },
  {
   "cell_type": "code",
   "execution_count": 209,
   "metadata": {},
   "outputs": [
    {
     "name": "stderr",
     "output_type": "stream",
     "text": [
      "C:\\Users\\vibhanshuv\\AppData\\Local\\Continuum\\anaconda3\\lib\\site-packages\\sklearn\\utils\\validation.py:578: DataConversionWarning: A column-vector y was passed when a 1d array was expected. Please change the shape of y to (n_samples, ), for example using ravel().\n",
      "  y = column_or_1d(y, warn=True)\n"
     ]
    }
   ],
   "source": [
    "from imblearn.combine import SMOTEENN\n",
    "sme = SMOTEENN(ratio='auto')\n",
    "X_sme, y_sme = sme.fit_sample(X_train, y_train)"
   ]
  },
  {
   "cell_type": "code",
   "execution_count": 210,
   "metadata": {},
   "outputs": [
    {
     "data": {
      "text/plain": [
       "AdaBoostClassifier(algorithm='SAMME.R', base_estimator=None,\n",
       "          learning_rate=1.0, n_estimators=50, random_state=None)"
      ]
     },
     "execution_count": 210,
     "metadata": {},
     "output_type": "execute_result"
    }
   ],
   "source": [
    "from sklearn.ensemble import AdaBoostClassifier\n",
    "model = AdaBoostClassifier()\n",
    "model.fit(X_sme, y_sme)"
   ]
  },
  {
   "cell_type": "code",
   "execution_count": 211,
   "metadata": {},
   "outputs": [],
   "source": [
    "y_true=model.decision_function(X_test)"
   ]
  },
  {
   "cell_type": "code",
   "execution_count": 212,
   "metadata": {},
   "outputs": [
    {
     "data": {
      "text/plain": [
       "0.9664037088292454"
      ]
     },
     "execution_count": 212,
     "metadata": {},
     "output_type": "execute_result"
    }
   ],
   "source": [
    "roc_auc_score(y_test, y_true)"
   ]
  },
  {
   "cell_type": "code",
   "execution_count": 213,
   "metadata": {},
   "outputs": [
    {
     "data": {
      "text/plain": [
       "0.7894164945161828"
      ]
     },
     "execution_count": 213,
     "metadata": {},
     "output_type": "execute_result"
    }
   ],
   "source": [
    "average_precision_score(y_test, y_true)"
   ]
  },
  {
   "cell_type": "markdown",
   "metadata": {},
   "source": [
    "### We will use (Smote+ENN) sampling since it is giving the best result"
   ]
  },
  {
   "cell_type": "code",
   "execution_count": 229,
   "metadata": {},
   "outputs": [
    {
     "name": "stderr",
     "output_type": "stream",
     "text": [
      "C:\\Users\\vibhanshuv\\AppData\\Local\\Continuum\\anaconda3\\lib\\site-packages\\sklearn\\utils\\validation.py:578: DataConversionWarning: A column-vector y was passed when a 1d array was expected. Please change the shape of y to (n_samples, ), for example using ravel().\n",
      "  y = column_or_1d(y, warn=True)\n"
     ]
    }
   ],
   "source": [
    "from imblearn.combine import SMOTEENN\n",
    "sme = SMOTEENN(ratio='auto')\n",
    "X_sme, y_sme = sme.fit_sample(X_train, y_train)"
   ]
  },
  {
   "cell_type": "markdown",
   "metadata": {},
   "source": [
    "### Logistic Regression"
   ]
  },
  {
   "cell_type": "code",
   "execution_count": 230,
   "metadata": {},
   "outputs": [
    {
     "name": "stdout",
     "output_type": "stream",
     "text": [
      "Fitting 3 folds for each of 12 candidates, totalling 36 fits\n",
      "[CV] C=1.0, penalty=l1 ...............................................\n",
      "[CV] ................................ C=1.0, penalty=l1, total=  11.0s\n",
      "[CV] C=1.0, penalty=l1 ...............................................\n"
     ]
    },
    {
     "name": "stderr",
     "output_type": "stream",
     "text": [
      "[Parallel(n_jobs=1)]: Done   1 out of   1 | elapsed:   11.1s remaining:    0.0s\n"
     ]
    },
    {
     "name": "stdout",
     "output_type": "stream",
     "text": [
      "[CV] ................................ C=1.0, penalty=l1, total=   7.7s\n",
      "[CV] C=1.0, penalty=l1 ...............................................\n",
      "[CV] ................................ C=1.0, penalty=l1, total=   8.5s\n",
      "[CV] C=1.0, penalty=l2 ...............................................\n",
      "[CV] ................................ C=1.0, penalty=l2, total=   5.0s\n",
      "[CV] C=1.0, penalty=l2 ...............................................\n",
      "[CV] ................................ C=1.0, penalty=l2, total=   4.3s\n",
      "[CV] C=1.0, penalty=l2 ...............................................\n",
      "[CV] ................................ C=1.0, penalty=l2, total=   4.5s\n",
      "[CV] C=10.0, penalty=l1 ..............................................\n",
      "[CV] ............................... C=10.0, penalty=l1, total=  10.0s\n",
      "[CV] C=10.0, penalty=l1 ..............................................\n",
      "[CV] ............................... C=10.0, penalty=l1, total=   9.0s\n",
      "[CV] C=10.0, penalty=l1 ..............................................\n",
      "[CV] ............................... C=10.0, penalty=l1, total=   8.7s\n",
      "[CV] C=10.0, penalty=l2 ..............................................\n",
      "[CV] ............................... C=10.0, penalty=l2, total=   4.6s\n",
      "[CV] C=10.0, penalty=l2 ..............................................\n",
      "[CV] ............................... C=10.0, penalty=l2, total=   4.2s\n",
      "[CV] C=10.0, penalty=l2 ..............................................\n",
      "[CV] ............................... C=10.0, penalty=l2, total=   4.2s\n",
      "[CV] C=50.0, penalty=l1 ..............................................\n",
      "[CV] ............................... C=50.0, penalty=l1, total=  11.2s\n",
      "[CV] C=50.0, penalty=l1 ..............................................\n",
      "[CV] ............................... C=50.0, penalty=l1, total=   8.7s\n",
      "[CV] C=50.0, penalty=l1 ..............................................\n",
      "[CV] ............................... C=50.0, penalty=l1, total=  18.0s\n",
      "[CV] C=50.0, penalty=l2 ..............................................\n",
      "[CV] ............................... C=50.0, penalty=l2, total=   4.7s\n",
      "[CV] C=50.0, penalty=l2 ..............................................\n",
      "[CV] ............................... C=50.0, penalty=l2, total=   4.4s\n",
      "[CV] C=50.0, penalty=l2 ..............................................\n",
      "[CV] ............................... C=50.0, penalty=l2, total=   4.3s\n",
      "[CV] C=100.0, penalty=l1 .............................................\n",
      "[CV] .............................. C=100.0, penalty=l1, total=  10.1s\n",
      "[CV] C=100.0, penalty=l1 .............................................\n",
      "[CV] .............................. C=100.0, penalty=l1, total=   7.9s\n",
      "[CV] C=100.0, penalty=l1 .............................................\n",
      "[CV] .............................. C=100.0, penalty=l1, total=  18.0s\n",
      "[CV] C=100.0, penalty=l2 .............................................\n",
      "[CV] .............................. C=100.0, penalty=l2, total=   4.6s\n",
      "[CV] C=100.0, penalty=l2 .............................................\n",
      "[CV] .............................. C=100.0, penalty=l2, total=   4.2s\n",
      "[CV] C=100.0, penalty=l2 .............................................\n",
      "[CV] .............................. C=100.0, penalty=l2, total=   4.2s\n",
      "[CV] C=500.0, penalty=l1 .............................................\n",
      "[CV] .............................. C=500.0, penalty=l1, total=   9.9s\n",
      "[CV] C=500.0, penalty=l1 .............................................\n",
      "[CV] .............................. C=500.0, penalty=l1, total=   7.9s\n",
      "[CV] C=500.0, penalty=l1 .............................................\n",
      "[CV] .............................. C=500.0, penalty=l1, total=  18.5s\n",
      "[CV] C=500.0, penalty=l2 .............................................\n",
      "[CV] .............................. C=500.0, penalty=l2, total=   4.5s\n",
      "[CV] C=500.0, penalty=l2 .............................................\n",
      "[CV] .............................. C=500.0, penalty=l2, total=   4.2s\n",
      "[CV] C=500.0, penalty=l2 .............................................\n",
      "[CV] .............................. C=500.0, penalty=l2, total=   4.1s\n",
      "[CV] C=1000.0, penalty=l1 ............................................\n",
      "[CV] ............................. C=1000.0, penalty=l1, total=   9.9s\n",
      "[CV] C=1000.0, penalty=l1 ............................................\n",
      "[CV] ............................. C=1000.0, penalty=l1, total=   8.0s\n",
      "[CV] C=1000.0, penalty=l1 ............................................\n",
      "[CV] ............................. C=1000.0, penalty=l1, total=  18.2s\n",
      "[CV] C=1000.0, penalty=l2 ............................................\n",
      "[CV] ............................. C=1000.0, penalty=l2, total=   4.5s\n",
      "[CV] C=1000.0, penalty=l2 ............................................\n",
      "[CV] ............................. C=1000.0, penalty=l2, total=   4.2s\n",
      "[CV] C=1000.0, penalty=l2 ............................................\n",
      "[CV] ............................. C=1000.0, penalty=l2, total=   4.1s\n"
     ]
    },
    {
     "name": "stderr",
     "output_type": "stream",
     "text": [
      "[Parallel(n_jobs=1)]: Done  36 out of  36 | elapsed:  4.8min finished\n"
     ]
    },
    {
     "data": {
      "text/plain": [
       "{'C': 50.0, 'penalty': 'l2'}"
      ]
     },
     "execution_count": 230,
     "metadata": {},
     "output_type": "execute_result"
    }
   ],
   "source": [
    "from sklearn.linear_model import LogisticRegression\n",
    "model = LogisticRegression(random_state=0)\n",
    "from sklearn.model_selection import GridSearchCV\n",
    "parameters={'C':[1.0,10.,50.0,100.0,500.0,1000.0],'penalty':['l1','l2']}\n",
    "clf=GridSearchCV(model,param_grid=parameters,cv=3,verbose=2)\n",
    "clf.fit(X_sme, y_sme)\n",
    "clf.best_params_"
   ]
  },
  {
   "cell_type": "code",
   "execution_count": 231,
   "metadata": {},
   "outputs": [
    {
     "name": "stdout",
     "output_type": "stream",
     "text": [
      "best score :0.95\n"
     ]
    }
   ],
   "source": [
    "print('best score :{0:.2F}'.format(clf.best_score_))"
   ]
  },
  {
   "cell_type": "code",
   "execution_count": 232,
   "metadata": {},
   "outputs": [],
   "source": [
    "y_true=clf.decision_function(X_test)"
   ]
  },
  {
   "cell_type": "code",
   "execution_count": 233,
   "metadata": {},
   "outputs": [
    {
     "data": {
      "text/plain": [
       "0.9842729344598466"
      ]
     },
     "execution_count": 233,
     "metadata": {},
     "output_type": "execute_result"
    }
   ],
   "source": [
    "roc_auc_score(y_test, y_true)"
   ]
  },
  {
   "cell_type": "code",
   "execution_count": 234,
   "metadata": {},
   "outputs": [
    {
     "data": {
      "text/plain": [
       "0.7578680107179503"
      ]
     },
     "execution_count": 234,
     "metadata": {},
     "output_type": "execute_result"
    }
   ],
   "source": [
    "average_precision_score(y_test, y_true)"
   ]
  },
  {
   "cell_type": "markdown",
   "metadata": {},
   "source": [
    "### Decision Tree"
   ]
  },
  {
   "cell_type": "code",
   "execution_count": 235,
   "metadata": {},
   "outputs": [
    {
     "name": "stdout",
     "output_type": "stream",
     "text": [
      "Fitting 3 folds for each of 9 candidates, totalling 27 fits\n",
      "[CV] max_depth=1, max_features=3 .....................................\n",
      "[CV] ...................... max_depth=1, max_features=3, total=   0.4s\n",
      "[CV] max_depth=1, max_features=3 .....................................\n"
     ]
    },
    {
     "name": "stderr",
     "output_type": "stream",
     "text": [
      "[Parallel(n_jobs=1)]: Done   1 out of   1 | elapsed:    0.5s remaining:    0.0s\n"
     ]
    },
    {
     "name": "stdout",
     "output_type": "stream",
     "text": [
      "[CV] ...................... max_depth=1, max_features=3, total=   0.2s\n",
      "[CV] max_depth=1, max_features=3 .....................................\n",
      "[CV] ...................... max_depth=1, max_features=3, total=   0.2s\n",
      "[CV] max_depth=1, max_features=5 .....................................\n",
      "[CV] ...................... max_depth=1, max_features=5, total=   0.2s\n",
      "[CV] max_depth=1, max_features=5 .....................................\n",
      "[CV] ...................... max_depth=1, max_features=5, total=   0.2s\n",
      "[CV] max_depth=1, max_features=5 .....................................\n",
      "[CV] ...................... max_depth=1, max_features=5, total=   0.2s\n",
      "[CV] max_depth=1, max_features=7 .....................................\n",
      "[CV] ...................... max_depth=1, max_features=7, total=   0.4s\n",
      "[CV] max_depth=1, max_features=7 .....................................\n",
      "[CV] ...................... max_depth=1, max_features=7, total=   0.3s\n",
      "[CV] max_depth=1, max_features=7 .....................................\n",
      "[CV] ...................... max_depth=1, max_features=7, total=   0.3s\n",
      "[CV] max_depth=5, max_features=3 .....................................\n",
      "[CV] ...................... max_depth=5, max_features=3, total=   0.6s\n",
      "[CV] max_depth=5, max_features=3 .....................................\n",
      "[CV] ...................... max_depth=5, max_features=3, total=   0.6s\n",
      "[CV] max_depth=5, max_features=3 .....................................\n",
      "[CV] ...................... max_depth=5, max_features=3, total=   0.6s\n",
      "[CV] max_depth=5, max_features=5 .....................................\n",
      "[CV] ...................... max_depth=5, max_features=5, total=   0.9s\n",
      "[CV] max_depth=5, max_features=5 .....................................\n",
      "[CV] ...................... max_depth=5, max_features=5, total=   1.0s\n",
      "[CV] max_depth=5, max_features=5 .....................................\n",
      "[CV] ...................... max_depth=5, max_features=5, total=   1.0s\n",
      "[CV] max_depth=5, max_features=7 .....................................\n",
      "[CV] ...................... max_depth=5, max_features=7, total=   1.4s\n",
      "[CV] max_depth=5, max_features=7 .....................................\n",
      "[CV] ...................... max_depth=5, max_features=7, total=   1.3s\n",
      "[CV] max_depth=5, max_features=7 .....................................\n",
      "[CV] ...................... max_depth=5, max_features=7, total=   1.3s\n",
      "[CV] max_depth=10, max_features=3 ....................................\n",
      "[CV] ..................... max_depth=10, max_features=3, total=   1.1s\n",
      "[CV] max_depth=10, max_features=3 ....................................\n",
      "[CV] ..................... max_depth=10, max_features=3, total=   1.1s\n",
      "[CV] max_depth=10, max_features=3 ....................................\n",
      "[CV] ..................... max_depth=10, max_features=3, total=   0.9s\n",
      "[CV] max_depth=10, max_features=5 ....................................\n",
      "[CV] ..................... max_depth=10, max_features=5, total=   1.6s\n",
      "[CV] max_depth=10, max_features=5 ....................................\n",
      "[CV] ..................... max_depth=10, max_features=5, total=   1.8s\n",
      "[CV] max_depth=10, max_features=5 ....................................\n",
      "[CV] ..................... max_depth=10, max_features=5, total=   1.8s\n",
      "[CV] max_depth=10, max_features=7 ....................................\n",
      "[CV] ..................... max_depth=10, max_features=7, total=   2.5s\n",
      "[CV] max_depth=10, max_features=7 ....................................\n",
      "[CV] ..................... max_depth=10, max_features=7, total=   2.7s\n",
      "[CV] max_depth=10, max_features=7 ....................................\n",
      "[CV] ..................... max_depth=10, max_features=7, total=   2.4s\n"
     ]
    },
    {
     "name": "stderr",
     "output_type": "stream",
     "text": [
      "[Parallel(n_jobs=1)]: Done  27 out of  27 | elapsed:   31.7s finished\n"
     ]
    },
    {
     "data": {
      "text/plain": [
       "{'max_depth': 10, 'max_features': 7}"
      ]
     },
     "execution_count": 235,
     "metadata": {},
     "output_type": "execute_result"
    }
   ],
   "source": [
    "from sklearn import tree\n",
    "model = tree.DecisionTreeClassifier()\n",
    "from sklearn.model_selection import GridSearchCV\n",
    "parameters={'max_depth':[1,5,10],'max_features':[3,5,7]}\n",
    "clf=GridSearchCV(model,param_grid=parameters,cv=3,verbose=2)\n",
    "clf.fit(X_sme, y_sme)\n",
    "clf.best_params_"
   ]
  },
  {
   "cell_type": "code",
   "execution_count": 237,
   "metadata": {},
   "outputs": [],
   "source": [
    "y_true=clf.predict_proba(X_test)[:,1]"
   ]
  },
  {
   "cell_type": "code",
   "execution_count": 238,
   "metadata": {},
   "outputs": [
    {
     "data": {
      "text/plain": [
       "0.8737266830386253"
      ]
     },
     "execution_count": 238,
     "metadata": {},
     "output_type": "execute_result"
    }
   ],
   "source": [
    "roc_auc_score(y_test, y_true)"
   ]
  },
  {
   "cell_type": "code",
   "execution_count": 239,
   "metadata": {},
   "outputs": [
    {
     "data": {
      "text/plain": [
       "0.5504907076372201"
      ]
     },
     "execution_count": 239,
     "metadata": {},
     "output_type": "execute_result"
    }
   ],
   "source": [
    "average_precision_score(y_test, y_true)"
   ]
  },
  {
   "cell_type": "markdown",
   "metadata": {},
   "source": [
    "### Random Forest"
   ]
  },
  {
   "cell_type": "code",
   "execution_count": 242,
   "metadata": {},
   "outputs": [
    {
     "name": "stdout",
     "output_type": "stream",
     "text": [
      "Fitting 3 folds for each of 8 candidates, totalling 24 fits\n",
      "[CV] criterion=gini, n_estimators=1 ..................................\n",
      "[CV] ................... criterion=gini, n_estimators=1, total=   1.4s\n",
      "[CV] criterion=gini, n_estimators=1 ..................................\n"
     ]
    },
    {
     "name": "stderr",
     "output_type": "stream",
     "text": [
      "[Parallel(n_jobs=1)]: Done   1 out of   1 | elapsed:    1.5s remaining:    0.0s\n"
     ]
    },
    {
     "name": "stdout",
     "output_type": "stream",
     "text": [
      "[CV] ................... criterion=gini, n_estimators=1, total=   1.9s\n",
      "[CV] criterion=gini, n_estimators=1 ..................................\n",
      "[CV] ................... criterion=gini, n_estimators=1, total=   1.4s\n",
      "[CV] criterion=gini, n_estimators=10 .................................\n",
      "[CV] .................. criterion=gini, n_estimators=10, total=  15.7s\n",
      "[CV] criterion=gini, n_estimators=10 .................................\n",
      "[CV] .................. criterion=gini, n_estimators=10, total=  14.8s\n",
      "[CV] criterion=gini, n_estimators=10 .................................\n",
      "[CV] .................. criterion=gini, n_estimators=10, total=  15.4s\n",
      "[CV] criterion=gini, n_estimators=100 ................................\n",
      "[CV] ................. criterion=gini, n_estimators=100, total= 2.5min\n",
      "[CV] criterion=gini, n_estimators=100 ................................\n",
      "[CV] ................. criterion=gini, n_estimators=100, total= 2.5min\n",
      "[CV] criterion=gini, n_estimators=100 ................................\n",
      "[CV] ................. criterion=gini, n_estimators=100, total= 2.5min\n",
      "[CV] criterion=gini, n_estimators=1000 ...............................\n",
      "[CV] ................ criterion=gini, n_estimators=1000, total=24.7min\n",
      "[CV] criterion=gini, n_estimators=1000 ...............................\n",
      "[CV] ................ criterion=gini, n_estimators=1000, total=23.8min\n",
      "[CV] criterion=gini, n_estimators=1000 ...............................\n",
      "[CV] ................ criterion=gini, n_estimators=1000, total=22.9min\n",
      "[CV] criterion=entropy, n_estimators=1 ...............................\n",
      "[CV] ................ criterion=entropy, n_estimators=1, total=   1.6s\n",
      "[CV] criterion=entropy, n_estimators=1 ...............................\n",
      "[CV] ................ criterion=entropy, n_estimators=1, total=   1.6s\n",
      "[CV] criterion=entropy, n_estimators=1 ...............................\n",
      "[CV] ................ criterion=entropy, n_estimators=1, total=   1.6s\n",
      "[CV] criterion=entropy, n_estimators=10 ..............................\n",
      "[CV] ............... criterion=entropy, n_estimators=10, total=  14.9s\n",
      "[CV] criterion=entropy, n_estimators=10 ..............................\n",
      "[CV] ............... criterion=entropy, n_estimators=10, total=  14.3s\n",
      "[CV] criterion=entropy, n_estimators=10 ..............................\n",
      "[CV] ............... criterion=entropy, n_estimators=10, total=  13.7s\n",
      "[CV] criterion=entropy, n_estimators=100 .............................\n",
      "[CV] .............. criterion=entropy, n_estimators=100, total= 2.4min\n",
      "[CV] criterion=entropy, n_estimators=100 .............................\n",
      "[CV] .............. criterion=entropy, n_estimators=100, total= 2.4min\n",
      "[CV] criterion=entropy, n_estimators=100 .............................\n",
      "[CV] .............. criterion=entropy, n_estimators=100, total= 2.4min\n",
      "[CV] criterion=entropy, n_estimators=1000 ............................\n",
      "[CV] ............. criterion=entropy, n_estimators=1000, total=23.7min\n",
      "[CV] criterion=entropy, n_estimators=1000 ............................\n",
      "[CV] ............. criterion=entropy, n_estimators=1000, total=26.1min\n",
      "[CV] criterion=entropy, n_estimators=1000 ............................\n",
      "[CV] ............. criterion=entropy, n_estimators=1000, total=25.3min\n"
     ]
    },
    {
     "name": "stderr",
     "output_type": "stream",
     "text": [
      "[Parallel(n_jobs=1)]: Done  24 out of  24 | elapsed: 166.0min finished\n"
     ]
    },
    {
     "data": {
      "text/plain": [
       "{'criterion': 'entropy', 'n_estimators': 1000}"
      ]
     },
     "execution_count": 242,
     "metadata": {},
     "output_type": "execute_result"
    }
   ],
   "source": [
    "from sklearn.ensemble import RandomForestClassifier\n",
    "model=RandomForestClassifier()\n",
    "from sklearn.model_selection import GridSearchCV\n",
    "parameters={'n_estimators':[1,10,100,1000],'criterion':['gini','entropy']}\n",
    "clf=GridSearchCV(model,param_grid=parameters,cv=3,verbose=2)\n",
    "clf.fit(X_sme, y_sme)\n",
    "clf.best_params_"
   ]
  },
  {
   "cell_type": "code",
   "execution_count": 243,
   "metadata": {},
   "outputs": [],
   "source": [
    "y_true=clf.predict_proba(X_test)[:,1]"
   ]
  },
  {
   "cell_type": "code",
   "execution_count": 244,
   "metadata": {},
   "outputs": [
    {
     "data": {
      "text/plain": [
       "0.9788023491144722"
      ]
     },
     "execution_count": 244,
     "metadata": {},
     "output_type": "execute_result"
    }
   ],
   "source": [
    "roc_auc_score(y_test, y_true)"
   ]
  },
  {
   "cell_type": "code",
   "execution_count": 245,
   "metadata": {},
   "outputs": [
    {
     "data": {
      "text/plain": [
       "0.8467080865822247"
      ]
     },
     "execution_count": 245,
     "metadata": {},
     "output_type": "execute_result"
    }
   ],
   "source": [
    "average_precision_score(y_test, y_true)"
   ]
  },
  {
   "cell_type": "markdown",
   "metadata": {},
   "source": [
    "### Adaboosting Classifier"
   ]
  },
  {
   "cell_type": "code",
   "execution_count": 246,
   "metadata": {},
   "outputs": [
    {
     "name": "stdout",
     "output_type": "stream",
     "text": [
      "Fitting 3 folds for each of 15 candidates, totalling 45 fits\n",
      "[CV] learning_rate=0.01, n_estimators=1 ..............................\n",
      "[CV] ............... learning_rate=0.01, n_estimators=1, total=   1.4s\n",
      "[CV] learning_rate=0.01, n_estimators=1 ..............................\n"
     ]
    },
    {
     "name": "stderr",
     "output_type": "stream",
     "text": [
      "[Parallel(n_jobs=1)]: Done   1 out of   1 | elapsed:    1.6s remaining:    0.0s\n"
     ]
    },
    {
     "name": "stdout",
     "output_type": "stream",
     "text": [
      "[CV] ............... learning_rate=0.01, n_estimators=1, total=   1.3s\n",
      "[CV] learning_rate=0.01, n_estimators=1 ..............................\n",
      "[CV] ............... learning_rate=0.01, n_estimators=1, total=   1.3s\n",
      "[CV] learning_rate=0.01, n_estimators=50 .............................\n",
      "[CV] .............. learning_rate=0.01, n_estimators=50, total= 1.1min\n",
      "[CV] learning_rate=0.01, n_estimators=50 .............................\n",
      "[CV] .............. learning_rate=0.01, n_estimators=50, total= 1.1min\n",
      "[CV] learning_rate=0.01, n_estimators=50 .............................\n",
      "[CV] .............. learning_rate=0.01, n_estimators=50, total= 1.1min\n",
      "[CV] learning_rate=0.01, n_estimators=100 ............................\n",
      "[CV] ............. learning_rate=0.01, n_estimators=100, total= 2.2min\n",
      "[CV] learning_rate=0.01, n_estimators=100 ............................\n",
      "[CV] ............. learning_rate=0.01, n_estimators=100, total= 2.2min\n",
      "[CV] learning_rate=0.01, n_estimators=100 ............................\n",
      "[CV] ............. learning_rate=0.01, n_estimators=100, total= 2.2min\n",
      "[CV] learning_rate=0.1, n_estimators=1 ...............................\n",
      "[CV] ................ learning_rate=0.1, n_estimators=1, total=   1.3s\n",
      "[CV] learning_rate=0.1, n_estimators=1 ...............................\n",
      "[CV] ................ learning_rate=0.1, n_estimators=1, total=   1.3s\n",
      "[CV] learning_rate=0.1, n_estimators=1 ...............................\n",
      "[CV] ................ learning_rate=0.1, n_estimators=1, total=   1.3s\n",
      "[CV] learning_rate=0.1, n_estimators=50 ..............................\n",
      "[CV] ............... learning_rate=0.1, n_estimators=50, total= 1.1min\n",
      "[CV] learning_rate=0.1, n_estimators=50 ..............................\n",
      "[CV] ............... learning_rate=0.1, n_estimators=50, total= 1.1min\n",
      "[CV] learning_rate=0.1, n_estimators=50 ..............................\n",
      "[CV] ............... learning_rate=0.1, n_estimators=50, total= 1.1min\n",
      "[CV] learning_rate=0.1, n_estimators=100 .............................\n",
      "[CV] .............. learning_rate=0.1, n_estimators=100, total= 2.1min\n",
      "[CV] learning_rate=0.1, n_estimators=100 .............................\n",
      "[CV] .............. learning_rate=0.1, n_estimators=100, total= 2.1min\n",
      "[CV] learning_rate=0.1, n_estimators=100 .............................\n",
      "[CV] .............. learning_rate=0.1, n_estimators=100, total= 2.1min\n",
      "[CV] learning_rate=1, n_estimators=1 .................................\n",
      "[CV] .................. learning_rate=1, n_estimators=1, total=   1.2s\n",
      "[CV] learning_rate=1, n_estimators=1 .................................\n",
      "[CV] .................. learning_rate=1, n_estimators=1, total=   1.2s\n",
      "[CV] learning_rate=1, n_estimators=1 .................................\n",
      "[CV] .................. learning_rate=1, n_estimators=1, total=   1.2s\n",
      "[CV] learning_rate=1, n_estimators=50 ................................\n",
      "[CV] ................. learning_rate=1, n_estimators=50, total= 1.0min\n",
      "[CV] learning_rate=1, n_estimators=50 ................................\n",
      "[CV] ................. learning_rate=1, n_estimators=50, total= 1.0min\n",
      "[CV] learning_rate=1, n_estimators=50 ................................\n",
      "[CV] ................. learning_rate=1, n_estimators=50, total= 1.0min\n",
      "[CV] learning_rate=1, n_estimators=100 ...............................\n",
      "[CV] ................ learning_rate=1, n_estimators=100, total= 2.1min\n",
      "[CV] learning_rate=1, n_estimators=100 ...............................\n",
      "[CV] ................ learning_rate=1, n_estimators=100, total= 2.1min\n",
      "[CV] learning_rate=1, n_estimators=100 ...............................\n",
      "[CV] ................ learning_rate=1, n_estimators=100, total= 2.1min\n",
      "[CV] learning_rate=2, n_estimators=1 .................................\n",
      "[CV] .................. learning_rate=2, n_estimators=1, total=   1.3s\n",
      "[CV] learning_rate=2, n_estimators=1 .................................\n",
      "[CV] .................. learning_rate=2, n_estimators=1, total=   1.3s\n",
      "[CV] learning_rate=2, n_estimators=1 .................................\n",
      "[CV] .................. learning_rate=2, n_estimators=1, total=   1.2s\n",
      "[CV] learning_rate=2, n_estimators=50 ................................\n",
      "[CV] ................. learning_rate=2, n_estimators=50, total= 1.0min\n",
      "[CV] learning_rate=2, n_estimators=50 ................................\n",
      "[CV] ................. learning_rate=2, n_estimators=50, total= 1.0min\n",
      "[CV] learning_rate=2, n_estimators=50 ................................\n",
      "[CV] ................. learning_rate=2, n_estimators=50, total= 1.1min\n",
      "[CV] learning_rate=2, n_estimators=100 ...............................\n",
      "[CV] ................ learning_rate=2, n_estimators=100, total= 2.1min\n",
      "[CV] learning_rate=2, n_estimators=100 ...............................\n",
      "[CV] ................ learning_rate=2, n_estimators=100, total= 2.1min\n",
      "[CV] learning_rate=2, n_estimators=100 ...............................\n",
      "[CV] ................ learning_rate=2, n_estimators=100, total= 2.1min\n",
      "[CV] learning_rate=10, n_estimators=1 ................................\n",
      "[CV] ................. learning_rate=10, n_estimators=1, total=   1.3s\n",
      "[CV] learning_rate=10, n_estimators=1 ................................\n",
      "[CV] ................. learning_rate=10, n_estimators=1, total=   1.2s\n",
      "[CV] learning_rate=10, n_estimators=1 ................................\n",
      "[CV] ................. learning_rate=10, n_estimators=1, total=   1.3s\n",
      "[CV] learning_rate=10, n_estimators=50 ...............................\n",
      "[CV] ................ learning_rate=10, n_estimators=50, total=   7.2s\n",
      "[CV] learning_rate=10, n_estimators=50 ...............................\n",
      "[CV] ................ learning_rate=10, n_estimators=50, total=   7.1s\n",
      "[CV] learning_rate=10, n_estimators=50 ...............................\n",
      "[CV] ................ learning_rate=10, n_estimators=50, total=   7.1s\n",
      "[CV] learning_rate=10, n_estimators=100 ..............................\n",
      "[CV] ............... learning_rate=10, n_estimators=100, total=  11.9s\n",
      "[CV] learning_rate=10, n_estimators=100 ..............................\n",
      "[CV] ............... learning_rate=10, n_estimators=100, total=  12.0s\n",
      "[CV] learning_rate=10, n_estimators=100 ..............................\n",
      "[CV] ............... learning_rate=10, n_estimators=100, total=  11.9s\n"
     ]
    },
    {
     "name": "stderr",
     "output_type": "stream",
     "text": [
      "[Parallel(n_jobs=1)]: Done  45 out of  45 | elapsed: 41.2min finished\n"
     ]
    },
    {
     "data": {
      "text/plain": [
       "{'learning_rate': 1, 'n_estimators': 100}"
      ]
     },
     "execution_count": 246,
     "metadata": {},
     "output_type": "execute_result"
    }
   ],
   "source": [
    "from sklearn.ensemble import AdaBoostClassifier\n",
    "model=AdaBoostClassifier()\n",
    "from sklearn.model_selection import GridSearchCV\n",
    "parameters={'n_estimators':[1,50,100],'learning_rate':[0.01,0.1,1,2,10]}\n",
    "clf=GridSearchCV(model,param_grid=parameters,cv=3,verbose=2)\n",
    "clf.fit(X_sme, y_sme)\n",
    "clf.best_params_"
   ]
  },
  {
   "cell_type": "code",
   "execution_count": 247,
   "metadata": {},
   "outputs": [],
   "source": [
    "y_true=clf.predict_proba(X_test)[:,1]"
   ]
  },
  {
   "cell_type": "code",
   "execution_count": 248,
   "metadata": {},
   "outputs": [
    {
     "data": {
      "text/plain": [
       "0.967137966610392"
      ]
     },
     "execution_count": 248,
     "metadata": {},
     "output_type": "execute_result"
    }
   ],
   "source": [
    "roc_auc_score(y_test, y_true)"
   ]
  },
  {
   "cell_type": "code",
   "execution_count": 249,
   "metadata": {},
   "outputs": [
    {
     "data": {
      "text/plain": [
       "0.8045966536786796"
      ]
     },
     "execution_count": 249,
     "metadata": {},
     "output_type": "execute_result"
    }
   ],
   "source": [
    "average_precision_score(y_test, y_true)"
   ]
  },
  {
   "cell_type": "markdown",
   "metadata": {},
   "source": [
    "### Random Forest algorithm gives the best average precision score"
   ]
  },
  {
   "cell_type": "code",
   "execution_count": 21,
   "metadata": {},
   "outputs": [
    {
     "name": "stderr",
     "output_type": "stream",
     "text": [
      "C:\\Users\\vibhanshuv\\AppData\\Local\\Continuum\\anaconda3\\lib\\site-packages\\sklearn\\utils\\validation.py:578: DataConversionWarning: A column-vector y was passed when a 1d array was expected. Please change the shape of y to (n_samples, ), for example using ravel().\n",
      "  y = column_or_1d(y, warn=True)\n"
     ]
    }
   ],
   "source": [
    "from imblearn.combine import SMOTEENN\n",
    "sme = SMOTEENN(ratio='auto')\n",
    "X_sme, y_sme = sme.fit_sample(X_train, y_train)"
   ]
  },
  {
   "cell_type": "code",
   "execution_count": 22,
   "metadata": {},
   "outputs": [
    {
     "name": "stdout",
     "output_type": "stream",
     "text": [
      "Fitting 5 folds for each of 3 candidates, totalling 15 fits\n",
      "[CV] max_depth=4 .....................................................\n",
      "[CV] ...................................... max_depth=4, total=15.7min\n",
      "[CV] max_depth=4 .....................................................\n"
     ]
    },
    {
     "name": "stderr",
     "output_type": "stream",
     "text": [
      "[Parallel(n_jobs=1)]: Done   1 out of   1 | elapsed: 16.1min remaining:    0.0s\n"
     ]
    },
    {
     "name": "stdout",
     "output_type": "stream",
     "text": [
      "[CV] ...................................... max_depth=4, total=15.1min\n",
      "[CV] max_depth=4 .....................................................\n",
      "[CV] ...................................... max_depth=4, total=15.2min\n",
      "[CV] max_depth=4 .....................................................\n",
      "[CV] ...................................... max_depth=4, total=15.2min\n",
      "[CV] max_depth=4 .....................................................\n",
      "[CV] ...................................... max_depth=4, total=15.0min\n",
      "[CV] max_depth=10 ....................................................\n",
      "[CV] ..................................... max_depth=10, total=29.1min\n",
      "[CV] max_depth=10 ....................................................\n",
      "[CV] ..................................... max_depth=10, total=27.6min\n",
      "[CV] max_depth=10 ....................................................\n",
      "[CV] ..................................... max_depth=10, total=29.0min\n",
      "[CV] max_depth=10 ....................................................\n",
      "[CV] ..................................... max_depth=10, total=29.6min\n",
      "[CV] max_depth=10 ....................................................\n",
      "[CV] ..................................... max_depth=10, total=29.2min\n",
      "[CV] max_depth=None ..................................................\n",
      "[CV] ................................... max_depth=None, total=30.5min\n",
      "[CV] max_depth=None ..................................................\n",
      "[CV] ................................... max_depth=None, total=30.0min\n",
      "[CV] max_depth=None ..................................................\n",
      "[CV] ................................... max_depth=None, total=30.4min\n",
      "[CV] max_depth=None ..................................................\n",
      "[CV] ................................... max_depth=None, total=30.4min\n",
      "[CV] max_depth=None ..................................................\n",
      "[CV] ................................... max_depth=None, total=30.5min\n"
     ]
    },
    {
     "name": "stderr",
     "output_type": "stream",
     "text": [
      "[Parallel(n_jobs=1)]: Done  15 out of  15 | elapsed: 379.5min finished\n"
     ]
    },
    {
     "data": {
      "text/plain": [
       "{'max_depth': None}"
      ]
     },
     "execution_count": 22,
     "metadata": {},
     "output_type": "execute_result"
    }
   ],
   "source": [
    "from sklearn.ensemble import RandomForestClassifier\n",
    "model=RandomForestClassifier(n_estimators=1000,criterion='entropy')\n",
    "from sklearn.model_selection import GridSearchCV\n",
    "parameters={'max_depth':[4,10,None]}\n",
    "clf=GridSearchCV(model,param_grid=parameters,cv=5,verbose=2)\n",
    "clf.fit(X_sme, y_sme)\n",
    "clf.best_params_"
   ]
  },
  {
   "cell_type": "code",
   "execution_count": 23,
   "metadata": {},
   "outputs": [],
   "source": [
    "y_true=clf.predict_proba(X_test)[:,1]"
   ]
  },
  {
   "cell_type": "code",
   "execution_count": 24,
   "metadata": {},
   "outputs": [
    {
     "data": {
      "text/plain": [
       "0.9836768509692378"
      ]
     },
     "execution_count": 24,
     "metadata": {},
     "output_type": "execute_result"
    }
   ],
   "source": [
    "roc_auc_score(y_test, y_true)"
   ]
  },
  {
   "cell_type": "code",
   "execution_count": 25,
   "metadata": {},
   "outputs": [
    {
     "data": {
      "text/plain": [
       "0.8460433695530951"
      ]
     },
     "execution_count": 25,
     "metadata": {},
     "output_type": "execute_result"
    }
   ],
   "source": [
    "average_precision_score(y_test, y_true)"
   ]
  },
  {
   "cell_type": "code",
   "execution_count": 26,
   "metadata": {},
   "outputs": [],
   "source": [
    "from sklearn.metrics import precision_recall_curve"
   ]
  },
  {
   "cell_type": "code",
   "execution_count": 27,
   "metadata": {},
   "outputs": [],
   "source": [
    "precision, recall, thresholds=precision_recall_curve(y_test, y_true)"
   ]
  },
  {
   "cell_type": "code",
   "execution_count": 42,
   "metadata": {},
   "outputs": [
    {
     "data": {
      "image/png": "[encoded data removed]",
      "text/plain": [
       "<matplotlib.figure.Figure at 0x24a36d6f9b0>"
      ]
     },
     "metadata": {},
     "output_type": "display_data"
    }
   ],
   "source": [
    "# plot no skill\n",
    "plt.plot([0, 1], [0.5, 0.5], linestyle='--')\n",
    "# plot the roc curve for the model\n",
    "plt.plot(recall, precision, marker='.')\n",
    "# show the plot\n",
    "plt.title('Precision vs Recall Curve')\n",
    "plt.xlabel('Recall')\n",
    "plt.ylabel('Precision')\n",
    "plt.show()"
   ]
  },
  {
   "cell_type": "code",
   "execution_count": 29,
   "metadata": {},
   "outputs": [
    {
     "data": {
      "image/png": "[encoded data removed]",
      "text/plain": [
       "<matplotlib.figure.Figure at 0x24a341be7f0>"
      ]
     },
     "metadata": {},
     "output_type": "display_data"
    }
   ],
   "source": [
    "plt.plot(thresholds, precision[1:], 'b', label='Threshold-Precision curve')\n",
    "plt.title('Precision for different threshold values')\n",
    "plt.xlabel('Threshold')\n",
    "plt.ylabel('Precision')\n",
    "plt.show()"
   ]
  },
  {
   "cell_type": "code",
   "execution_count": 32,
   "metadata": {},
   "outputs": [
    {
     "data": {
      "image/png": "[encoded data removed]",
      "text/plain": [
       "<matplotlib.figure.Figure at 0x24a31adc7b8>"
      ]
     },
     "metadata": {},
     "output_type": "display_data"
    }
   ],
   "source": [
    "plt.plot(thresholds, recall[1:], 'b', label='Threshold-Recall curve')\n",
    "plt.title('Precision for different threshold values')\n",
    "plt.xlabel('Threshold')\n",
    "plt.ylabel('Recall')\n",
    "plt.show()"
   ]
  },
  {
   "cell_type": "code",
   "execution_count": 33,
   "metadata": {},
   "outputs": [
    {
     "data": {
      "image/png": "[encoded data removed]",
      "text/plain": [
       "<matplotlib.figure.Figure at 0x24a31b40a90>"
      ]
     },
     "metadata": {},
     "output_type": "display_data"
    }
   ],
   "source": [
    "fpr, tpr, thresholds = roc_curve(y_test, y_true)\n",
    "roc_auc = auc(fpr,tpr)\n",
    "# Plot ROC\n",
    "plt.title('Receiver Operating Characteristic')\n",
    "plt.plot(fpr, tpr, 'b',label='AUC = %0.3f'% roc_auc)\n",
    "plt.legend(loc='lower right')\n",
    "plt.plot([0,1],[0,1],'r--')\n",
    "plt.xlim([-0.1,1.0])\n",
    "plt.ylim([-0.1,1.01])\n",
    "plt.ylabel('True Positive Rate')\n",
    "plt.xlabel('False Positive Rate')\n",
    "plt.show()"
   ]
  },
  {
   "cell_type": "code",
   "execution_count": 40,
   "metadata": {},
   "outputs": [],
   "source": [
    "import itertools\n",
    "def plot_confusion_matrix(cm, classes,\n",
    "                          normalize=False,\n",
    "                          title='Confusion matrix',\n",
    "                          cmap=plt.cm.Blues):\n",
    "    \"\"\"\n",
    "    This function prints and plots the confusion matrix.\n",
    "    Normalization can be applied by setting `normalize=True`.\n",
    "    \"\"\"\n",
    "    plt.imshow(cm, interpolation='nearest', cmap=cmap)\n",
    "    plt.title(title)\n",
    "    plt.colorbar()\n",
    "    tick_marks = np.arange(len(classes))\n",
    "    plt.xticks(tick_marks, classes, rotation=0)\n",
    "    plt.yticks(tick_marks, classes)\n",
    "\n",
    "    if normalize:\n",
    "        cm = cm.astype('float') / cm.sum(axis=1)[:, np.newaxis]\n",
    "        #print(\"Normalized confusion matrix\")\n",
    "    else:\n",
    "        1#print('Confusion matrix, without normalization')\n",
    "\n",
    "    #print(cm)\n",
    "\n",
    "    thresh = cm.max() / 2.\n",
    "    for i, j in itertools.product(range(cm.shape[0]), range(cm.shape[1])):\n",
    "        plt.text(j, i, cm[i, j],\n",
    "                 horizontalalignment=\"center\",\n",
    "                 color=\"white\" if cm[i, j] > thresh else \"black\")\n",
    "\n",
    "    plt.tight_layout()\n",
    "    plt.ylabel('True label')\n",
    "    plt.xlabel('Predicted label')"
   ]
  },
  {
   "cell_type": "code",
   "execution_count": 41,
   "metadata": {},
   "outputs": [
    {
     "name": "stdout",
     "output_type": "stream",
     "text": [
      "Recall metric in the testing dataset:  0.8367346938775511\n"
     ]
    },
    {
     "data": {
      "image/png": "[encoded data removed]",
      "text/plain": [
       "<matplotlib.figure.Figure at 0x24a36c0def0>"
      ]
     },
     "metadata": {},
     "output_type": "display_data"
    }
   ],
   "source": [
    "cnf_matrix = confusion_matrix(y_test,clf.predict(X_test))\n",
    "np.set_printoptions(precision=2)\n",
    "\n",
    "print(\"Recall metric in the testing dataset: \", cnf_matrix[1,1]/(cnf_matrix[1,0]+cnf_matrix[1,1]))\n",
    "\n",
    "# Plot non-normalized confusion matrix\n",
    "class_names = [0,1]\n",
    "plt.figure()\n",
    "plot_confusion_matrix(cnf_matrix, classes=class_names, title='Confusion matrix')\n",
    "plt.show()"
   ]
  },
  {
   "cell_type": "markdown",
   "metadata": {},
   "source": [
    "<h1><center><font size=5><font color='Indigo'>**Autoencoder**</font></font></center></h1>"
   ]
  },
  {
   "cell_type": "markdown",
   "metadata": {},
   "source": [
    "### Building the model"
   ]
  },
  {
   "cell_type": "code",
   "execution_count": 111,
   "metadata": {},
   "outputs": [],
   "source": [
    "from keras.models import Model, load_model\n",
    "from keras.layers import Input, Dense\n",
    "from keras.callbacks import ModelCheckpoint\n",
    "from keras import regularizers"
   ]
  },
  {
   "cell_type": "markdown",
   "metadata": {},
   "source": [
    "#####  Autoencoder uses 4 fully connected layers with 14, 7, 7 and 29 neurons respectively. The first two layers are used for our encoder, the last two go for the decoder. Additionally, L1 regularization will be used during training:"
   ]
  },
  {
   "cell_type": "code",
   "execution_count": 112,
   "metadata": {},
   "outputs": [],
   "source": [
    "input_dim = X_train.shape[1]\n",
    "encoding_dim = 14\n",
    "input_layer = Input(shape=(input_dim, ))\n",
    "encoder = Dense(encoding_dim, activation=\"tanh\", activity_regularizer=regularizers.l1(10e-5))(input_layer)\n",
    "encoder = Dense(int(encoding_dim / 2), activation=\"relu\")(encoder)\n",
    "decoder = Dense(int(encoding_dim / 2), activation='tanh')(encoder)\n",
    "decoder = Dense(input_dim, activation='relu')(decoder)\n",
    "autoencoder = Model(inputs=input_layer, outputs=decoder)"
   ]
  },
  {
   "cell_type": "code",
   "execution_count": 113,
   "metadata": {
    "scrolled": false
   },
   "outputs": [
    {
     "name": "stdout",
     "output_type": "stream",
     "text": [
      "Train on 199364 samples, validate on 85443 samples\n",
      "Epoch 1/300\n",
      " - 5s - loss: 0.8556 - acc: 0.5925 - val_loss: 0.7943 - val_acc: 0.6654\n",
      "Epoch 2/300\n",
      " - 5s - loss: 0.7853 - acc: 0.6689 - val_loss: 0.7784 - val_acc: 0.6804\n",
      "Epoch 3/300\n",
      " - 5s - loss: 0.7753 - acc: 0.6805 - val_loss: 0.7785 - val_acc: 0.6804\n",
      "Epoch 4/300\n",
      " - 5s - loss: 0.7702 - acc: 0.6862 - val_loss: 0.7679 - val_acc: 0.6908\n",
      "Epoch 5/300\n",
      " - 5s - loss: 0.7670 - acc: 0.6911 - val_loss: 0.7652 - val_acc: 0.6992\n",
      "Epoch 6/300\n",
      " - 5s - loss: 0.7646 - acc: 0.6967 - val_loss: 0.7649 - val_acc: 0.7004\n",
      "Epoch 7/300\n",
      " - 5s - loss: 0.7629 - acc: 0.6985 - val_loss: 0.7605 - val_acc: 0.7038\n",
      "Epoch 8/300\n",
      " - 5s - loss: 0.7619 - acc: 0.6998 - val_loss: 0.7619 - val_acc: 0.7010\n",
      "Epoch 9/300\n",
      " - 5s - loss: 0.7606 - acc: 0.7005 - val_loss: 0.7595 - val_acc: 0.7020\n",
      "Epoch 10/300\n",
      " - 5s - loss: 0.7596 - acc: 0.7024 - val_loss: 0.7624 - val_acc: 0.6937\n",
      "Epoch 11/300\n",
      " - 5s - loss: 0.7591 - acc: 0.7034 - val_loss: 0.7600 - val_acc: 0.6994\n",
      "Epoch 12/300\n",
      " - 5s - loss: 0.7582 - acc: 0.7040 - val_loss: 0.7563 - val_acc: 0.7043\n",
      "Epoch 13/300\n",
      " - 5s - loss: 0.7576 - acc: 0.7044 - val_loss: 0.7560 - val_acc: 0.6994\n",
      "Epoch 14/300\n",
      " - 5s - loss: 0.7568 - acc: 0.7048 - val_loss: 0.7565 - val_acc: 0.7055\n",
      "Epoch 15/300\n",
      " - 5s - loss: 0.7560 - acc: 0.7052 - val_loss: 0.7547 - val_acc: 0.7122\n",
      "Epoch 16/300\n",
      " - 5s - loss: 0.7559 - acc: 0.7056 - val_loss: 0.7559 - val_acc: 0.7097\n",
      "Epoch 17/300\n",
      " - 5s - loss: 0.7552 - acc: 0.7060 - val_loss: 0.7541 - val_acc: 0.7088\n",
      "Epoch 18/300\n",
      " - 5s - loss: 0.7549 - acc: 0.7070 - val_loss: 0.7550 - val_acc: 0.7070\n",
      "Epoch 19/300\n",
      " - 5s - loss: 0.7549 - acc: 0.7068 - val_loss: 0.7594 - val_acc: 0.6961\n",
      "Epoch 20/300\n",
      " - 5s - loss: 0.7542 - acc: 0.7060 - val_loss: 0.7534 - val_acc: 0.7052\n",
      "Epoch 21/300\n",
      " - 5s - loss: 0.7541 - acc: 0.7056 - val_loss: 0.7530 - val_acc: 0.7114\n",
      "Epoch 22/300\n",
      " - 5s - loss: 0.7537 - acc: 0.7062 - val_loss: 0.7527 - val_acc: 0.7093\n",
      "Epoch 23/300\n",
      " - 5s - loss: 0.7533 - acc: 0.7069 - val_loss: 0.7547 - val_acc: 0.7097\n",
      "Epoch 24/300\n",
      " - 5s - loss: 0.7533 - acc: 0.7074 - val_loss: 0.7542 - val_acc: 0.7063\n",
      "Epoch 25/300\n",
      " - 5s - loss: 0.7533 - acc: 0.7077 - val_loss: 0.7512 - val_acc: 0.7133\n",
      "Epoch 26/300\n",
      " - 5s - loss: 0.7527 - acc: 0.7082 - val_loss: 0.7531 - val_acc: 0.7038\n",
      "Epoch 27/300\n",
      " - 5s - loss: 0.7527 - acc: 0.7078 - val_loss: 0.7546 - val_acc: 0.7011\n",
      "Epoch 28/300\n",
      " - 5s - loss: 0.7526 - acc: 0.7087 - val_loss: 0.7525 - val_acc: 0.7091\n",
      "Epoch 29/300\n",
      " - 5s - loss: 0.7523 - acc: 0.7085 - val_loss: 0.7511 - val_acc: 0.7100\n",
      "Epoch 30/300\n",
      " - 5s - loss: 0.7524 - acc: 0.7092 - val_loss: 0.7527 - val_acc: 0.7109\n",
      "Epoch 31/300\n",
      " - 5s - loss: 0.7517 - acc: 0.7099 - val_loss: 0.7524 - val_acc: 0.7100\n",
      "Epoch 32/300\n",
      " - 5s - loss: 0.7519 - acc: 0.7095 - val_loss: 0.7503 - val_acc: 0.7131\n",
      "Epoch 33/300\n",
      " - 5s - loss: 0.7519 - acc: 0.7100 - val_loss: 0.7516 - val_acc: 0.7036\n",
      "Epoch 34/300\n",
      " - 5s - loss: 0.7516 - acc: 0.7101 - val_loss: 0.7521 - val_acc: 0.7094\n",
      "Epoch 35/300\n",
      " - 5s - loss: 0.7516 - acc: 0.7100 - val_loss: 0.7519 - val_acc: 0.6963\n",
      "Epoch 36/300\n",
      " - 5s - loss: 0.7514 - acc: 0.7101 - val_loss: 0.7526 - val_acc: 0.7076\n",
      "Epoch 37/300\n",
      " - 5s - loss: 0.7515 - acc: 0.7105 - val_loss: 0.7510 - val_acc: 0.7163\n",
      "Epoch 38/300\n",
      " - 5s - loss: 0.7512 - acc: 0.7096 - val_loss: 0.7514 - val_acc: 0.7086\n",
      "Epoch 39/300\n",
      " - 5s - loss: 0.7510 - acc: 0.7093 - val_loss: 0.7516 - val_acc: 0.7066\n",
      "Epoch 40/300\n",
      " - 5s - loss: 0.7510 - acc: 0.7095 - val_loss: 0.7509 - val_acc: 0.7114\n",
      "Epoch 41/300\n",
      " - 5s - loss: 0.7510 - acc: 0.7101 - val_loss: 0.7511 - val_acc: 0.7047\n",
      "Epoch 42/300\n",
      " - 5s - loss: 0.7510 - acc: 0.7107 - val_loss: 0.7514 - val_acc: 0.7138\n",
      "Epoch 43/300\n",
      " - 5s - loss: 0.7507 - acc: 0.7103 - val_loss: 0.7507 - val_acc: 0.7103\n",
      "Epoch 44/300\n",
      " - 5s - loss: 0.7506 - acc: 0.7102 - val_loss: 0.7513 - val_acc: 0.7075\n",
      "Epoch 45/300\n",
      " - 5s - loss: 0.7508 - acc: 0.7103 - val_loss: 0.7497 - val_acc: 0.7080\n",
      "Epoch 46/300\n",
      " - 5s - loss: 0.7506 - acc: 0.7096 - val_loss: 0.7497 - val_acc: 0.7145\n",
      "Epoch 47/300\n",
      " - 5s - loss: 0.7505 - acc: 0.7099 - val_loss: 0.7499 - val_acc: 0.7074\n",
      "Epoch 48/300\n",
      " - 5s - loss: 0.7504 - acc: 0.7104 - val_loss: 0.7505 - val_acc: 0.7038\n",
      "Epoch 49/300\n",
      " - 5s - loss: 0.7502 - acc: 0.7102 - val_loss: 0.7519 - val_acc: 0.7092\n",
      "Epoch 50/300\n",
      " - 5s - loss: 0.7504 - acc: 0.7105 - val_loss: 0.7492 - val_acc: 0.7052\n",
      "Epoch 51/300\n",
      " - 5s - loss: 0.7500 - acc: 0.7107 - val_loss: 0.7503 - val_acc: 0.7061\n",
      "Epoch 52/300\n",
      " - 5s - loss: 0.7502 - acc: 0.7102 - val_loss: 0.7481 - val_acc: 0.7163\n",
      "Epoch 53/300\n",
      " - 5s - loss: 0.7501 - acc: 0.7109 - val_loss: 0.7512 - val_acc: 0.7051\n",
      "Epoch 54/300\n",
      " - 5s - loss: 0.7500 - acc: 0.7102 - val_loss: 0.7515 - val_acc: 0.7117\n",
      "Epoch 55/300\n",
      " - 5s - loss: 0.7501 - acc: 0.7095 - val_loss: 0.7491 - val_acc: 0.7104\n",
      "Epoch 56/300\n",
      " - 5s - loss: 0.7501 - acc: 0.7100 - val_loss: 0.7498 - val_acc: 0.7145\n",
      "Epoch 57/300\n",
      " - 5s - loss: 0.7501 - acc: 0.7106 - val_loss: 0.7510 - val_acc: 0.7095\n",
      "Epoch 58/300\n",
      " - 5s - loss: 0.7501 - acc: 0.7111 - val_loss: 0.7495 - val_acc: 0.7062\n",
      "Epoch 59/300\n",
      " - 5s - loss: 0.7500 - acc: 0.7113 - val_loss: 0.7491 - val_acc: 0.7091\n",
      "Epoch 60/300\n",
      " - 5s - loss: 0.7498 - acc: 0.7108 - val_loss: 0.7485 - val_acc: 0.7169\n",
      "Epoch 61/300\n",
      " - 5s - loss: 0.7497 - acc: 0.7106 - val_loss: 0.7495 - val_acc: 0.7075\n",
      "Epoch 62/300\n",
      " - 5s - loss: 0.7501 - acc: 0.7108 - val_loss: 0.7509 - val_acc: 0.7147\n",
      "Epoch 63/300\n",
      " - 5s - loss: 0.7500 - acc: 0.7107 - val_loss: 0.7495 - val_acc: 0.7124\n",
      "Epoch 64/300\n",
      " - 5s - loss: 0.7499 - acc: 0.7102 - val_loss: 0.7493 - val_acc: 0.7114\n",
      "Epoch 65/300\n",
      " - 5s - loss: 0.7498 - acc: 0.7107 - val_loss: 0.7508 - val_acc: 0.6979\n",
      "Epoch 66/300\n",
      " - 6s - loss: 0.7495 - acc: 0.7102 - val_loss: 0.7485 - val_acc: 0.7124\n",
      "Epoch 67/300\n",
      " - 6s - loss: 0.7499 - acc: 0.7112 - val_loss: 0.7481 - val_acc: 0.7140\n",
      "Epoch 68/300\n",
      " - 5s - loss: 0.7496 - acc: 0.7120 - val_loss: 0.7559 - val_acc: 0.7003\n",
      "Epoch 69/300\n",
      " - 5s - loss: 0.7498 - acc: 0.7100 - val_loss: 0.7501 - val_acc: 0.7041\n",
      "Epoch 70/300\n",
      " - 5s - loss: 0.7498 - acc: 0.7114 - val_loss: 0.7487 - val_acc: 0.7120\n",
      "Epoch 71/300\n",
      " - 5s - loss: 0.7495 - acc: 0.7115 - val_loss: 0.7498 - val_acc: 0.7104\n",
      "Epoch 72/300\n",
      " - 5s - loss: 0.7496 - acc: 0.7109 - val_loss: 0.7480 - val_acc: 0.7115\n",
      "Epoch 73/300\n",
      " - 5s - loss: 0.7500 - acc: 0.7106 - val_loss: 0.7511 - val_acc: 0.6989\n",
      "Epoch 74/300\n",
      " - 5s - loss: 0.7497 - acc: 0.7112 - val_loss: 0.7488 - val_acc: 0.7089\n",
      "Epoch 75/300\n",
      " - 5s - loss: 0.7496 - acc: 0.7108 - val_loss: 0.7488 - val_acc: 0.7122\n",
      "Epoch 76/300\n",
      " - 5s - loss: 0.7497 - acc: 0.7115 - val_loss: 0.7500 - val_acc: 0.7126\n",
      "Epoch 77/300\n",
      " - 5s - loss: 0.7495 - acc: 0.7111 - val_loss: 0.7558 - val_acc: 0.7023\n",
      "Epoch 78/300\n",
      " - 5s - loss: 0.7496 - acc: 0.7107 - val_loss: 0.7483 - val_acc: 0.7169\n",
      "Epoch 79/300\n",
      " - 6s - loss: 0.7496 - acc: 0.7117 - val_loss: 0.7495 - val_acc: 0.7153\n",
      "Epoch 80/300\n",
      " - 7s - loss: 0.7493 - acc: 0.7112 - val_loss: 0.7542 - val_acc: 0.7090\n",
      "Epoch 81/300\n",
      " - 5s - loss: 0.7494 - acc: 0.7107 - val_loss: 0.7482 - val_acc: 0.7125\n",
      "Epoch 82/300\n",
      " - 5s - loss: 0.7490 - acc: 0.7107 - val_loss: 0.7519 - val_acc: 0.7012\n",
      "Epoch 83/300\n",
      " - 5s - loss: 0.7495 - acc: 0.7119 - val_loss: 0.7490 - val_acc: 0.7145\n",
      "Epoch 84/300\n",
      " - 5s - loss: 0.7495 - acc: 0.7117 - val_loss: 0.7503 - val_acc: 0.7167\n",
      "Epoch 85/300\n",
      " - 5s - loss: 0.7496 - acc: 0.7115 - val_loss: 0.7509 - val_acc: 0.7123\n",
      "Epoch 86/300\n",
      " - 5s - loss: 0.7493 - acc: 0.7117 - val_loss: 0.7496 - val_acc: 0.7052\n",
      "Epoch 87/300\n",
      " - 5s - loss: 0.7496 - acc: 0.7114 - val_loss: 0.7492 - val_acc: 0.7088\n",
      "Epoch 88/300\n",
      " - 5s - loss: 0.7492 - acc: 0.7110 - val_loss: 0.7488 - val_acc: 0.7194\n",
      "Epoch 89/300\n",
      " - 5s - loss: 0.7494 - acc: 0.7115 - val_loss: 0.7496 - val_acc: 0.7133\n",
      "Epoch 90/300\n",
      " - 5s - loss: 0.7493 - acc: 0.7112 - val_loss: 0.7484 - val_acc: 0.7151\n",
      "Epoch 91/300\n",
      " - 5s - loss: 0.7495 - acc: 0.7108 - val_loss: 0.7482 - val_acc: 0.7108\n",
      "Epoch 92/300\n",
      " - 5s - loss: 0.7492 - acc: 0.7103 - val_loss: 0.7496 - val_acc: 0.7059\n",
      "Epoch 93/300\n",
      " - 5s - loss: 0.7496 - acc: 0.7113 - val_loss: 0.7496 - val_acc: 0.7025\n",
      "Epoch 94/300\n",
      " - 5s - loss: 0.7490 - acc: 0.7118 - val_loss: 0.7507 - val_acc: 0.7131\n",
      "Epoch 95/300\n",
      " - 5s - loss: 0.7492 - acc: 0.7120 - val_loss: 0.7524 - val_acc: 0.7100\n",
      "Epoch 96/300\n",
      " - 5s - loss: 0.7492 - acc: 0.7116 - val_loss: 0.7517 - val_acc: 0.7112\n"
     ]
    },
    {
     "name": "stdout",
     "output_type": "stream",
     "text": [
      "Epoch 97/300\n",
      " - 5s - loss: 0.7492 - acc: 0.7106 - val_loss: 0.7486 - val_acc: 0.7143\n",
      "Epoch 98/300\n",
      " - 5s - loss: 0.7495 - acc: 0.7114 - val_loss: 0.7492 - val_acc: 0.7168\n",
      "Epoch 99/300\n",
      " - 6s - loss: 0.7491 - acc: 0.7118 - val_loss: 0.7492 - val_acc: 0.7108\n",
      "Epoch 100/300\n",
      " - 6s - loss: 0.7492 - acc: 0.7109 - val_loss: 0.7483 - val_acc: 0.7175\n",
      "Epoch 101/300\n",
      " - 6s - loss: 0.7494 - acc: 0.7120 - val_loss: 0.7489 - val_acc: 0.7127\n",
      "Epoch 102/300\n",
      " - 6s - loss: 0.7490 - acc: 0.7121 - val_loss: 0.7504 - val_acc: 0.6952\n",
      "Epoch 103/300\n",
      " - 6s - loss: 0.7489 - acc: 0.7119 - val_loss: 0.7473 - val_acc: 0.7167\n",
      "Epoch 104/300\n",
      " - 7s - loss: 0.7493 - acc: 0.7117 - val_loss: 0.7501 - val_acc: 0.7100\n",
      "Epoch 105/300\n",
      " - 6s - loss: 0.7490 - acc: 0.7115 - val_loss: 0.7492 - val_acc: 0.7087\n",
      "Epoch 106/300\n",
      " - 6s - loss: 0.7489 - acc: 0.7113 - val_loss: 0.7488 - val_acc: 0.7120\n",
      "Epoch 107/300\n",
      " - 6s - loss: 0.7492 - acc: 0.7105 - val_loss: 0.7527 - val_acc: 0.7006\n",
      "Epoch 108/300\n",
      " - 6s - loss: 0.7490 - acc: 0.7124 - val_loss: 0.7470 - val_acc: 0.7197\n",
      "Epoch 109/300\n",
      " - 5s - loss: 0.7493 - acc: 0.7123 - val_loss: 0.7474 - val_acc: 0.7180\n",
      "Epoch 110/300\n",
      " - 5s - loss: 0.7491 - acc: 0.7123 - val_loss: 0.7525 - val_acc: 0.6974\n",
      "Epoch 111/300\n",
      " - 5s - loss: 0.7490 - acc: 0.7116 - val_loss: 0.7475 - val_acc: 0.7127\n",
      "Epoch 112/300\n",
      " - 5s - loss: 0.7490 - acc: 0.7120 - val_loss: 0.7495 - val_acc: 0.7053\n",
      "Epoch 113/300\n",
      " - 6s - loss: 0.7493 - acc: 0.7125 - val_loss: 0.7484 - val_acc: 0.7080\n",
      "Epoch 114/300\n",
      " - 6s - loss: 0.7489 - acc: 0.7117 - val_loss: 0.7475 - val_acc: 0.7123\n",
      "Epoch 115/300\n",
      " - 5s - loss: 0.7495 - acc: 0.7113 - val_loss: 0.7499 - val_acc: 0.7051\n",
      "Epoch 116/300\n",
      " - 6s - loss: 0.7488 - acc: 0.7122 - val_loss: 0.7486 - val_acc: 0.7142\n",
      "Epoch 117/300\n",
      " - 5s - loss: 0.7487 - acc: 0.7121 - val_loss: 0.7493 - val_acc: 0.7154\n",
      "Epoch 118/300\n",
      " - 5s - loss: 0.7491 - acc: 0.7118 - val_loss: 0.7488 - val_acc: 0.7133\n",
      "Epoch 119/300\n",
      " - 5s - loss: 0.7490 - acc: 0.7114 - val_loss: 0.7495 - val_acc: 0.7099\n",
      "Epoch 120/300\n",
      " - 5s - loss: 0.7489 - acc: 0.7116 - val_loss: 0.7495 - val_acc: 0.7088\n",
      "Epoch 121/300\n",
      " - 5s - loss: 0.7488 - acc: 0.7125 - val_loss: 0.7467 - val_acc: 0.7150\n",
      "Epoch 122/300\n",
      " - 5s - loss: 0.7491 - acc: 0.7113 - val_loss: 0.7487 - val_acc: 0.7069\n",
      "Epoch 123/300\n",
      " - 5s - loss: 0.7491 - acc: 0.7117 - val_loss: 0.7509 - val_acc: 0.7066\n",
      "Epoch 124/300\n",
      " - 5s - loss: 0.7488 - acc: 0.7110 - val_loss: 0.7492 - val_acc: 0.7078\n",
      "Epoch 125/300\n",
      " - 5s - loss: 0.7493 - acc: 0.7118 - val_loss: 0.7490 - val_acc: 0.7107\n",
      "Epoch 126/300\n",
      " - 5s - loss: 0.7494 - acc: 0.7116 - val_loss: 0.7468 - val_acc: 0.7089\n",
      "Epoch 127/300\n",
      " - 5s - loss: 0.7487 - acc: 0.7121 - val_loss: 0.7488 - val_acc: 0.7096\n",
      "Epoch 128/300\n",
      " - 5s - loss: 0.7494 - acc: 0.7126 - val_loss: 0.7479 - val_acc: 0.7177\n",
      "Epoch 129/300\n",
      " - 5s - loss: 0.7488 - acc: 0.7125 - val_loss: 0.7473 - val_acc: 0.7155\n",
      "Epoch 130/300\n",
      " - 5s - loss: 0.7489 - acc: 0.7132 - val_loss: 0.7471 - val_acc: 0.7103\n",
      "Epoch 131/300\n",
      " - 5s - loss: 0.7491 - acc: 0.7122 - val_loss: 0.7518 - val_acc: 0.7165\n",
      "Epoch 132/300\n",
      " - 5s - loss: 0.7488 - acc: 0.7115 - val_loss: 0.7475 - val_acc: 0.7117\n",
      "Epoch 133/300\n",
      " - 5s - loss: 0.7492 - acc: 0.7125 - val_loss: 0.7472 - val_acc: 0.7199\n",
      "Epoch 134/300\n",
      " - 5s - loss: 0.7488 - acc: 0.7130 - val_loss: 0.7500 - val_acc: 0.7104\n",
      "Epoch 135/300\n",
      " - 5s - loss: 0.7488 - acc: 0.7121 - val_loss: 0.7485 - val_acc: 0.7150\n",
      "Epoch 136/300\n",
      " - 5s - loss: 0.7491 - acc: 0.7117 - val_loss: 0.7493 - val_acc: 0.7145\n",
      "Epoch 137/300\n",
      " - 5s - loss: 0.7491 - acc: 0.7123 - val_loss: 0.7553 - val_acc: 0.6857\n",
      "Epoch 138/300\n",
      " - 5s - loss: 0.7487 - acc: 0.7127 - val_loss: 0.7511 - val_acc: 0.7041\n",
      "Epoch 139/300\n",
      " - 7s - loss: 0.7490 - acc: 0.7123 - val_loss: 0.7475 - val_acc: 0.7171\n",
      "Epoch 140/300\n",
      " - 7s - loss: 0.7490 - acc: 0.7130 - val_loss: 0.7473 - val_acc: 0.7146\n",
      "Epoch 141/300\n",
      " - 5s - loss: 0.7487 - acc: 0.7126 - val_loss: 0.7474 - val_acc: 0.7157\n",
      "Epoch 142/300\n",
      " - 6s - loss: 0.7487 - acc: 0.7121 - val_loss: 0.7541 - val_acc: 0.7030\n",
      "Epoch 143/300\n",
      " - 5s - loss: 0.7491 - acc: 0.7113 - val_loss: 0.7480 - val_acc: 0.7150\n",
      "Epoch 144/300\n",
      " - 6s - loss: 0.7486 - acc: 0.7126 - val_loss: 0.7473 - val_acc: 0.7091\n",
      "Epoch 145/300\n",
      " - 5s - loss: 0.7487 - acc: 0.7133 - val_loss: 0.7483 - val_acc: 0.7118\n",
      "Epoch 146/300\n",
      " - 5s - loss: 0.7490 - acc: 0.7127 - val_loss: 0.7469 - val_acc: 0.7162\n",
      "Epoch 147/300\n",
      " - 5s - loss: 0.7489 - acc: 0.7130 - val_loss: 0.7498 - val_acc: 0.7117\n",
      "Epoch 148/300\n",
      " - 5s - loss: 0.7485 - acc: 0.7125 - val_loss: 0.7499 - val_acc: 0.7120\n",
      "Epoch 149/300\n",
      " - 5s - loss: 0.7488 - acc: 0.7117 - val_loss: 0.7489 - val_acc: 0.7163\n",
      "Epoch 150/300\n",
      " - 5s - loss: 0.7485 - acc: 0.7125 - val_loss: 0.7484 - val_acc: 0.7082\n",
      "Epoch 151/300\n",
      " - 5s - loss: 0.7485 - acc: 0.7131 - val_loss: 0.7500 - val_acc: 0.7086\n",
      "Epoch 152/300\n",
      " - 5s - loss: 0.7489 - acc: 0.7125 - val_loss: 0.7484 - val_acc: 0.7137\n",
      "Epoch 153/300\n",
      " - 5s - loss: 0.7487 - acc: 0.7122 - val_loss: 0.7539 - val_acc: 0.7057\n",
      "Epoch 154/300\n",
      " - 5s - loss: 0.7488 - acc: 0.7122 - val_loss: 0.7476 - val_acc: 0.7160\n",
      "Epoch 155/300\n",
      " - 5s - loss: 0.7487 - acc: 0.7133 - val_loss: 0.7497 - val_acc: 0.7122\n",
      "Epoch 156/300\n",
      " - 6s - loss: 0.7486 - acc: 0.7135 - val_loss: 0.7477 - val_acc: 0.7164\n",
      "Epoch 157/300\n",
      " - 5s - loss: 0.7484 - acc: 0.7129 - val_loss: 0.7500 - val_acc: 0.7084\n",
      "Epoch 158/300\n",
      " - 5s - loss: 0.7489 - acc: 0.7126 - val_loss: 0.7491 - val_acc: 0.7127\n",
      "Epoch 159/300\n",
      " - 5s - loss: 0.7484 - acc: 0.7123 - val_loss: 0.7479 - val_acc: 0.7095\n",
      "Epoch 160/300\n",
      " - 5s - loss: 0.7484 - acc: 0.7133 - val_loss: 0.7493 - val_acc: 0.7107\n",
      "Epoch 161/300\n",
      " - 5s - loss: 0.7485 - acc: 0.7130 - val_loss: 0.7529 - val_acc: 0.7077\n",
      "Epoch 162/300\n",
      " - 5s - loss: 0.7486 - acc: 0.7138 - val_loss: 0.7494 - val_acc: 0.7069\n",
      "Epoch 163/300\n",
      " - 5s - loss: 0.7483 - acc: 0.7129 - val_loss: 0.7486 - val_acc: 0.7163\n",
      "Epoch 164/300\n",
      " - 5s - loss: 0.7484 - acc: 0.7126 - val_loss: 0.7488 - val_acc: 0.7083\n",
      "Epoch 165/300\n",
      " - 5s - loss: 0.7484 - acc: 0.7131 - val_loss: 0.7484 - val_acc: 0.7201\n",
      "Epoch 166/300\n",
      " - 5s - loss: 0.7484 - acc: 0.7130 - val_loss: 0.7468 - val_acc: 0.7116\n",
      "Epoch 167/300\n",
      " - 5s - loss: 0.7484 - acc: 0.7133 - val_loss: 0.7469 - val_acc: 0.7156\n",
      "Epoch 168/300\n",
      " - 5s - loss: 0.7483 - acc: 0.7132 - val_loss: 0.7477 - val_acc: 0.7118\n",
      "Epoch 169/300\n",
      " - 5s - loss: 0.7487 - acc: 0.7133 - val_loss: 0.7494 - val_acc: 0.7062\n",
      "Epoch 170/300\n",
      " - 5s - loss: 0.7483 - acc: 0.7130 - val_loss: 0.7462 - val_acc: 0.7138\n",
      "Epoch 171/300\n",
      " - 5s - loss: 0.7485 - acc: 0.7139 - val_loss: 0.7478 - val_acc: 0.7097\n",
      "Epoch 172/300\n",
      " - 5s - loss: 0.7485 - acc: 0.7121 - val_loss: 0.7484 - val_acc: 0.7152\n",
      "Epoch 173/300\n",
      " - 5s - loss: 0.7484 - acc: 0.7129 - val_loss: 0.7477 - val_acc: 0.7122\n",
      "Epoch 174/300\n",
      " - 5s - loss: 0.7483 - acc: 0.7139 - val_loss: 0.7498 - val_acc: 0.7124\n",
      "Epoch 175/300\n",
      " - 5s - loss: 0.7487 - acc: 0.7127 - val_loss: 0.7467 - val_acc: 0.7145\n",
      "Epoch 176/300\n",
      " - 5s - loss: 0.7482 - acc: 0.7131 - val_loss: 0.7513 - val_acc: 0.7051\n",
      "Epoch 177/300\n",
      " - 5s - loss: 0.7483 - acc: 0.7134 - val_loss: 0.7462 - val_acc: 0.7129\n",
      "Epoch 178/300\n",
      " - 5s - loss: 0.7481 - acc: 0.7126 - val_loss: 0.7467 - val_acc: 0.7192\n",
      "Epoch 179/300\n",
      " - 5s - loss: 0.7486 - acc: 0.7135 - val_loss: 0.7499 - val_acc: 0.7058\n",
      "Epoch 180/300\n",
      " - 5s - loss: 0.7482 - acc: 0.7134 - val_loss: 0.7465 - val_acc: 0.7173\n",
      "Epoch 181/300\n",
      " - 5s - loss: 0.7483 - acc: 0.7131 - val_loss: 0.7472 - val_acc: 0.7144\n",
      "Epoch 182/300\n",
      " - 5s - loss: 0.7482 - acc: 0.7132 - val_loss: 0.7496 - val_acc: 0.7171\n",
      "Epoch 183/300\n",
      " - 5s - loss: 0.7479 - acc: 0.7120 - val_loss: 0.7469 - val_acc: 0.7164\n",
      "Epoch 184/300\n",
      " - 5s - loss: 0.7483 - acc: 0.7135 - val_loss: 0.7465 - val_acc: 0.7128\n",
      "Epoch 185/300\n",
      " - 5s - loss: 0.7481 - acc: 0.7134 - val_loss: 0.7538 - val_acc: 0.7042\n",
      "Epoch 186/300\n",
      " - 5s - loss: 0.7479 - acc: 0.7129 - val_loss: 0.7515 - val_acc: 0.7093\n",
      "Epoch 187/300\n",
      " - 5s - loss: 0.7482 - acc: 0.7138 - val_loss: 0.7484 - val_acc: 0.7046\n",
      "Epoch 188/300\n",
      " - 5s - loss: 0.7484 - acc: 0.7129 - val_loss: 0.7472 - val_acc: 0.7126\n",
      "Epoch 189/300\n",
      " - 5s - loss: 0.7482 - acc: 0.7139 - val_loss: 0.7510 - val_acc: 0.7019\n",
      "Epoch 190/300\n",
      " - 5s - loss: 0.7483 - acc: 0.7135 - val_loss: 0.7476 - val_acc: 0.7140\n",
      "Epoch 191/300\n",
      " - 5s - loss: 0.7480 - acc: 0.7127 - val_loss: 0.7462 - val_acc: 0.7167\n",
      "Epoch 192/300\n",
      " - 5s - loss: 0.7481 - acc: 0.7124 - val_loss: 0.7496 - val_acc: 0.7098\n"
     ]
    },
    {
     "name": "stdout",
     "output_type": "stream",
     "text": [
      "Epoch 193/300\n",
      " - 5s - loss: 0.7481 - acc: 0.7126 - val_loss: 0.7482 - val_acc: 0.7097\n",
      "Epoch 194/300\n",
      " - 5s - loss: 0.7480 - acc: 0.7128 - val_loss: 0.7485 - val_acc: 0.7164\n",
      "Epoch 195/300\n",
      " - 5s - loss: 0.7479 - acc: 0.7127 - val_loss: 0.7475 - val_acc: 0.7100\n",
      "Epoch 196/300\n",
      " - 5s - loss: 0.7482 - acc: 0.7139 - val_loss: 0.7476 - val_acc: 0.7144\n",
      "Epoch 197/300\n",
      " - 5s - loss: 0.7485 - acc: 0.7127 - val_loss: 0.7469 - val_acc: 0.7150\n",
      "Epoch 198/300\n",
      " - 5s - loss: 0.7476 - acc: 0.7130 - val_loss: 0.7479 - val_acc: 0.7133\n",
      "Epoch 199/300\n",
      " - 5s - loss: 0.7479 - acc: 0.7137 - val_loss: 0.7491 - val_acc: 0.7091\n",
      "Epoch 200/300\n",
      " - 5s - loss: 0.7481 - acc: 0.7129 - val_loss: 0.7468 - val_acc: 0.7180\n",
      "Epoch 201/300\n",
      " - 5s - loss: 0.7483 - acc: 0.7128 - val_loss: 0.7489 - val_acc: 0.7122\n",
      "Epoch 202/300\n",
      " - 5s - loss: 0.7480 - acc: 0.7128 - val_loss: 0.7484 - val_acc: 0.7163\n",
      "Epoch 203/300\n",
      " - 5s - loss: 0.7478 - acc: 0.7137 - val_loss: 0.7479 - val_acc: 0.7119\n",
      "Epoch 204/300\n",
      " - 5s - loss: 0.7483 - acc: 0.7139 - val_loss: 0.7498 - val_acc: 0.7194\n",
      "Epoch 205/300\n",
      " - 5s - loss: 0.7477 - acc: 0.7133 - val_loss: 0.7492 - val_acc: 0.7113\n",
      "Epoch 206/300\n",
      " - 5s - loss: 0.7482 - acc: 0.7134 - val_loss: 0.7459 - val_acc: 0.7191\n",
      "Epoch 207/300\n",
      " - 5s - loss: 0.7478 - acc: 0.7129 - val_loss: 0.7475 - val_acc: 0.7152\n",
      "Epoch 208/300\n",
      " - 5s - loss: 0.7481 - acc: 0.7137 - val_loss: 0.7467 - val_acc: 0.7181\n",
      "Epoch 209/300\n",
      " - 5s - loss: 0.7479 - acc: 0.7137 - val_loss: 0.7509 - val_acc: 0.7090\n",
      "Epoch 210/300\n",
      " - 5s - loss: 0.7479 - acc: 0.7139 - val_loss: 0.7481 - val_acc: 0.7150\n",
      "Epoch 211/300\n",
      " - 5s - loss: 0.7480 - acc: 0.7136 - val_loss: 0.7474 - val_acc: 0.7141\n",
      "Epoch 212/300\n",
      " - 5s - loss: 0.7482 - acc: 0.7141 - val_loss: 0.7462 - val_acc: 0.7158\n",
      "Epoch 213/300\n",
      " - 5s - loss: 0.7480 - acc: 0.7141 - val_loss: 0.7486 - val_acc: 0.7116\n",
      "Epoch 214/300\n",
      " - 5s - loss: 0.7481 - acc: 0.7122 - val_loss: 0.7462 - val_acc: 0.7148\n",
      "Epoch 215/300\n",
      " - 5s - loss: 0.7481 - acc: 0.7139 - val_loss: 0.7467 - val_acc: 0.7166\n",
      "Epoch 216/300\n",
      " - 5s - loss: 0.7481 - acc: 0.7137 - val_loss: 0.7478 - val_acc: 0.7149\n",
      "Epoch 217/300\n",
      " - 5s - loss: 0.7478 - acc: 0.7139 - val_loss: 0.7480 - val_acc: 0.7228\n",
      "Epoch 218/300\n",
      " - 5s - loss: 0.7481 - acc: 0.7137 - val_loss: 0.7512 - val_acc: 0.7066\n",
      "Epoch 219/300\n",
      " - 5s - loss: 0.7479 - acc: 0.7133 - val_loss: 0.7479 - val_acc: 0.7125\n",
      "Epoch 220/300\n",
      " - 5s - loss: 0.7477 - acc: 0.7142 - val_loss: 0.7481 - val_acc: 0.7193\n",
      "Epoch 221/300\n",
      " - 5s - loss: 0.7477 - acc: 0.7136 - val_loss: 0.7488 - val_acc: 0.7155\n",
      "Epoch 222/300\n",
      " - 5s - loss: 0.7475 - acc: 0.7135 - val_loss: 0.7466 - val_acc: 0.7164\n",
      "Epoch 223/300\n",
      " - 5s - loss: 0.7475 - acc: 0.7138 - val_loss: 0.7507 - val_acc: 0.6987\n",
      "Epoch 224/300\n",
      " - 5s - loss: 0.7481 - acc: 0.7139 - val_loss: 0.7462 - val_acc: 0.7150\n",
      "Epoch 225/300\n",
      " - 5s - loss: 0.7477 - acc: 0.7139 - val_loss: 0.7449 - val_acc: 0.7159\n",
      "Epoch 226/300\n",
      " - 5s - loss: 0.7475 - acc: 0.7135 - val_loss: 0.7473 - val_acc: 0.7132\n",
      "Epoch 227/300\n",
      " - 5s - loss: 0.7477 - acc: 0.7142 - val_loss: 0.7473 - val_acc: 0.7172\n",
      "Epoch 228/300\n",
      " - 5s - loss: 0.7476 - acc: 0.7147 - val_loss: 0.7493 - val_acc: 0.7111\n",
      "Epoch 229/300\n",
      " - 5s - loss: 0.7478 - acc: 0.7131 - val_loss: 0.7469 - val_acc: 0.7091\n",
      "Epoch 230/300\n",
      " - 5s - loss: 0.7478 - acc: 0.7135 - val_loss: 0.7474 - val_acc: 0.7078\n",
      "Epoch 231/300\n",
      " - 5s - loss: 0.7477 - acc: 0.7146 - val_loss: 0.7465 - val_acc: 0.7123\n",
      "Epoch 232/300\n",
      " - 5s - loss: 0.7476 - acc: 0.7143 - val_loss: 0.7479 - val_acc: 0.7105\n",
      "Epoch 233/300\n",
      " - 5s - loss: 0.7478 - acc: 0.7148 - val_loss: 0.7478 - val_acc: 0.7129\n",
      "Epoch 234/300\n",
      " - 5s - loss: 0.7475 - acc: 0.7143 - val_loss: 0.7455 - val_acc: 0.7185\n",
      "Epoch 235/300\n",
      " - 5s - loss: 0.7477 - acc: 0.7136 - val_loss: 0.7483 - val_acc: 0.7051\n",
      "Epoch 236/300\n",
      " - 5s - loss: 0.7475 - acc: 0.7146 - val_loss: 0.7519 - val_acc: 0.6985\n",
      "Epoch 237/300\n",
      " - 5s - loss: 0.7476 - acc: 0.7141 - val_loss: 0.7472 - val_acc: 0.7174\n",
      "Epoch 238/300\n",
      " - 5s - loss: 0.7480 - acc: 0.7146 - val_loss: 0.7466 - val_acc: 0.7136\n",
      "Epoch 239/300\n",
      " - 5s - loss: 0.7477 - acc: 0.7141 - val_loss: 0.7473 - val_acc: 0.7063\n",
      "Epoch 240/300\n",
      " - 5s - loss: 0.7476 - acc: 0.7145 - val_loss: 0.7460 - val_acc: 0.7197\n",
      "Epoch 241/300\n",
      " - 5s - loss: 0.7479 - acc: 0.7147 - val_loss: 0.7505 - val_acc: 0.7126\n",
      "Epoch 242/300\n",
      " - 5s - loss: 0.7474 - acc: 0.7148 - val_loss: 0.7463 - val_acc: 0.7118\n",
      "Epoch 243/300\n",
      " - 5s - loss: 0.7475 - acc: 0.7141 - val_loss: 0.7467 - val_acc: 0.7173\n",
      "Epoch 244/300\n",
      " - 5s - loss: 0.7474 - acc: 0.7141 - val_loss: 0.7489 - val_acc: 0.7102\n",
      "Epoch 245/300\n",
      " - 5s - loss: 0.7475 - acc: 0.7146 - val_loss: 0.7474 - val_acc: 0.7127\n",
      "Epoch 246/300\n",
      " - 5s - loss: 0.7478 - acc: 0.7143 - val_loss: 0.7482 - val_acc: 0.7135\n",
      "Epoch 247/300\n",
      " - 5s - loss: 0.7475 - acc: 0.7146 - val_loss: 0.7465 - val_acc: 0.7142\n",
      "Epoch 248/300\n",
      " - 5s - loss: 0.7474 - acc: 0.7147 - val_loss: 0.7470 - val_acc: 0.7087\n",
      "Epoch 249/300\n",
      " - 5s - loss: 0.7484 - acc: 0.7148 - val_loss: 0.7481 - val_acc: 0.7206\n",
      "Epoch 250/300\n",
      " - 5s - loss: 0.7473 - acc: 0.7143 - val_loss: 0.7477 - val_acc: 0.7153\n",
      "Epoch 251/300\n",
      " - 5s - loss: 0.7477 - acc: 0.7143 - val_loss: 0.7477 - val_acc: 0.7172\n",
      "Epoch 252/300\n",
      " - 5s - loss: 0.7474 - acc: 0.7149 - val_loss: 0.7470 - val_acc: 0.7089\n",
      "Epoch 253/300\n",
      " - 5s - loss: 0.7479 - acc: 0.7138 - val_loss: 0.7470 - val_acc: 0.7100\n",
      "Epoch 254/300\n",
      " - 5s - loss: 0.7476 - acc: 0.7138 - val_loss: 0.7516 - val_acc: 0.7093\n",
      "Epoch 255/300\n",
      " - 5s - loss: 0.7476 - acc: 0.7146 - val_loss: 0.7513 - val_acc: 0.7110\n",
      "Epoch 256/300\n",
      " - 5s - loss: 0.7476 - acc: 0.7150 - val_loss: 0.7468 - val_acc: 0.7150\n",
      "Epoch 257/300\n",
      " - 5s - loss: 0.7475 - acc: 0.7150 - val_loss: 0.7460 - val_acc: 0.7185\n",
      "Epoch 258/300\n",
      " - 5s - loss: 0.7474 - acc: 0.7149 - val_loss: 0.7465 - val_acc: 0.7100\n",
      "Epoch 259/300\n",
      " - 5s - loss: 0.7473 - acc: 0.7149 - val_loss: 0.7474 - val_acc: 0.7124\n",
      "Epoch 260/300\n",
      " - 5s - loss: 0.7476 - acc: 0.7148 - val_loss: 0.7462 - val_acc: 0.7200\n",
      "Epoch 261/300\n",
      " - 5s - loss: 0.7477 - acc: 0.7149 - val_loss: 0.7456 - val_acc: 0.7178\n",
      "Epoch 262/300\n",
      " - 5s - loss: 0.7476 - acc: 0.7147 - val_loss: 0.7457 - val_acc: 0.7201\n",
      "Epoch 263/300\n",
      " - 5s - loss: 0.7476 - acc: 0.7154 - val_loss: 0.7466 - val_acc: 0.7166\n",
      "Epoch 264/300\n",
      " - 5s - loss: 0.7477 - acc: 0.7149 - val_loss: 0.7467 - val_acc: 0.7107\n",
      "Epoch 265/300\n",
      " - 5s - loss: 0.7476 - acc: 0.7149 - val_loss: 0.7473 - val_acc: 0.7173\n",
      "Epoch 266/300\n",
      " - 5s - loss: 0.7474 - acc: 0.7149 - val_loss: 0.7461 - val_acc: 0.7175\n",
      "Epoch 267/300\n",
      " - 5s - loss: 0.7475 - acc: 0.7143 - val_loss: 0.7454 - val_acc: 0.7186\n",
      "Epoch 268/300\n",
      " - 5s - loss: 0.7477 - acc: 0.7143 - val_loss: 0.7468 - val_acc: 0.7143\n",
      "Epoch 269/300\n",
      " - 5s - loss: 0.7474 - acc: 0.7141 - val_loss: 0.7476 - val_acc: 0.7134\n",
      "Epoch 270/300\n",
      " - 5s - loss: 0.7480 - acc: 0.7147 - val_loss: 0.7471 - val_acc: 0.7175\n",
      "Epoch 271/300\n",
      " - 5s - loss: 0.7475 - acc: 0.7146 - val_loss: 0.7457 - val_acc: 0.7168\n",
      "Epoch 272/300\n",
      " - 6s - loss: 0.7476 - acc: 0.7152 - val_loss: 0.7479 - val_acc: 0.7121\n",
      "Epoch 273/300\n",
      " - 5s - loss: 0.7476 - acc: 0.7150 - val_loss: 0.7469 - val_acc: 0.7138\n",
      "Epoch 274/300\n",
      " - 6s - loss: 0.7476 - acc: 0.7152 - val_loss: 0.7465 - val_acc: 0.7153\n",
      "Epoch 275/300\n",
      " - 5s - loss: 0.7473 - acc: 0.7154 - val_loss: 0.7479 - val_acc: 0.7084\n",
      "Epoch 276/300\n",
      " - 5s - loss: 0.7474 - acc: 0.7159 - val_loss: 0.7464 - val_acc: 0.7139\n",
      "Epoch 277/300\n",
      " - 5s - loss: 0.7476 - acc: 0.7155 - val_loss: 0.7473 - val_acc: 0.7132\n",
      "Epoch 278/300\n",
      " - 5s - loss: 0.7473 - acc: 0.7158 - val_loss: 0.7475 - val_acc: 0.7215\n",
      "Epoch 279/300\n",
      " - 5s - loss: 0.7476 - acc: 0.7145 - val_loss: 0.7457 - val_acc: 0.7190\n",
      "Epoch 280/300\n",
      " - 5s - loss: 0.7475 - acc: 0.7152 - val_loss: 0.7478 - val_acc: 0.7173\n",
      "Epoch 281/300\n",
      " - 5s - loss: 0.7477 - acc: 0.7157 - val_loss: 0.7465 - val_acc: 0.7138\n",
      "Epoch 282/300\n",
      " - 5s - loss: 0.7474 - acc: 0.7151 - val_loss: 0.7458 - val_acc: 0.7204\n",
      "Epoch 283/300\n",
      " - 5s - loss: 0.7472 - acc: 0.7145 - val_loss: 0.7457 - val_acc: 0.7176\n",
      "Epoch 284/300\n",
      " - 5s - loss: 0.7474 - acc: 0.7150 - val_loss: 0.7507 - val_acc: 0.7112\n",
      "Epoch 285/300\n",
      " - 5s - loss: 0.7474 - acc: 0.7148 - val_loss: 0.7476 - val_acc: 0.7095\n",
      "Epoch 286/300\n",
      " - 5s - loss: 0.7472 - acc: 0.7150 - val_loss: 0.7473 - val_acc: 0.7148\n",
      "Epoch 287/300\n",
      " - 5s - loss: 0.7476 - acc: 0.7147 - val_loss: 0.7467 - val_acc: 0.7197\n",
      "Epoch 288/300\n",
      " - 5s - loss: 0.7472 - acc: 0.7150 - val_loss: 0.7454 - val_acc: 0.7227\n"
     ]
    },
    {
     "name": "stdout",
     "output_type": "stream",
     "text": [
      "Epoch 289/300\n",
      " - 5s - loss: 0.7475 - acc: 0.7141 - val_loss: 0.7470 - val_acc: 0.7113\n",
      "Epoch 290/300\n",
      " - 5s - loss: 0.7474 - acc: 0.7153 - val_loss: 0.7480 - val_acc: 0.7125\n",
      "Epoch 291/300\n",
      " - 5s - loss: 0.7475 - acc: 0.7153 - val_loss: 0.7471 - val_acc: 0.7111\n",
      "Epoch 292/300\n",
      " - 5s - loss: 0.7471 - acc: 0.7144 - val_loss: 0.7466 - val_acc: 0.7202\n",
      "Epoch 293/300\n",
      " - 6s - loss: 0.7474 - acc: 0.7150 - val_loss: 0.7464 - val_acc: 0.7167\n",
      "Epoch 294/300\n",
      " - 5s - loss: 0.7476 - acc: 0.7148 - val_loss: 0.7459 - val_acc: 0.7162\n",
      "Epoch 295/300\n",
      " - 5s - loss: 0.7475 - acc: 0.7148 - val_loss: 0.7470 - val_acc: 0.7182\n",
      "Epoch 296/300\n",
      " - 5s - loss: 0.7472 - acc: 0.7155 - val_loss: 0.7476 - val_acc: 0.7162\n",
      "Epoch 297/300\n",
      " - 5s - loss: 0.7474 - acc: 0.7151 - val_loss: 0.7499 - val_acc: 0.7193\n",
      "Epoch 298/300\n",
      " - 5s - loss: 0.7473 - acc: 0.7153 - val_loss: 0.7484 - val_acc: 0.7197\n",
      "Epoch 299/300\n",
      " - 5s - loss: 0.7474 - acc: 0.7144 - val_loss: 0.7484 - val_acc: 0.7139\n",
      "Epoch 300/300\n",
      " - 5s - loss: 0.7479 - acc: 0.7150 - val_loss: 0.7473 - val_acc: 0.7147\n"
     ]
    }
   ],
   "source": [
    "nb_epoch = 300\n",
    "batch_size = 32\n",
    "autoencoder.compile(optimizer='adam', loss='mean_squared_error', metrics=['accuracy'])\n",
    "checkpointer = ModelCheckpoint(filepath=\"autoencoder.h5\", verbose=0, save_best_only=True)\n",
    "history = autoencoder.fit(X_train, X_train,epochs=nb_epoch,batch_size=batch_size,shuffle=True,validation_data=(X_test, X_test),verbose=2,callbacks=[checkpointer]).history"
   ]
  },
  {
   "cell_type": "code",
   "execution_count": 114,
   "metadata": {},
   "outputs": [],
   "source": [
    "autoencoder = load_model('autoencoder.h5')"
   ]
  },
  {
   "cell_type": "markdown",
   "metadata": {},
   "source": [
    "### Model Evaluation"
   ]
  },
  {
   "cell_type": "code",
   "execution_count": 115,
   "metadata": {},
   "outputs": [
    {
     "data": {
      "image/png": "[encoded data removed]",
      "text/plain": [
       "<matplotlib.figure.Figure at 0x16e8a63c748>"
      ]
     },
     "metadata": {},
     "output_type": "display_data"
    }
   ],
   "source": [
    "plt.plot(history['loss'])\n",
    "plt.plot(history['val_loss'])\n",
    "plt.title('model loss')\n",
    "plt.ylabel('loss')\n",
    "plt.xlabel('epoch')\n",
    "plt.legend(['train', 'test'], loc='upper right');"
   ]
  },
  {
   "cell_type": "code",
   "execution_count": 116,
   "metadata": {},
   "outputs": [],
   "source": [
    "predictions = autoencoder.predict(X_test)\n",
    "mse = np.mean(np.power(X_test - predictions, 2), axis=1)"
   ]
  },
  {
   "cell_type": "code",
   "execution_count": 117,
   "metadata": {},
   "outputs": [
    {
     "data": {
      "text/html": [
       "<div>\n",
       "<style scoped>\n",
       "    .dataframe tbody tr th:only-of-type {\n",
       "        vertical-align: middle;\n",
       "    }\n",
       "\n",
       "    .dataframe tbody tr th {\n",
       "        vertical-align: top;\n",
       "    }\n",
       "\n",
       "    .dataframe thead th {\n",
       "        text-align: right;\n",
       "    }\n",
       "</style>\n",
       "<table border=\"1\" class=\"dataframe\">\n",
       "  <thead>\n",
       "    <tr style=\"text-align: right;\">\n",
       "      <th></th>\n",
       "      <th>reconstruction_error</th>\n",
       "      <th>true_class</th>\n",
       "    </tr>\n",
       "  </thead>\n",
       "  <tbody>\n",
       "    <tr>\n",
       "      <th>183484</th>\n",
       "      <td>0.378933</td>\n",
       "      <td>0</td>\n",
       "    </tr>\n",
       "    <tr>\n",
       "      <th>255448</th>\n",
       "      <td>0.261262</td>\n",
       "      <td>0</td>\n",
       "    </tr>\n",
       "    <tr>\n",
       "      <th>244749</th>\n",
       "      <td>1.121580</td>\n",
       "      <td>0</td>\n",
       "    </tr>\n",
       "    <tr>\n",
       "      <th>63919</th>\n",
       "      <td>0.771053</td>\n",
       "      <td>0</td>\n",
       "    </tr>\n",
       "    <tr>\n",
       "      <th>11475</th>\n",
       "      <td>0.775391</td>\n",
       "      <td>0</td>\n",
       "    </tr>\n",
       "  </tbody>\n",
       "</table>\n",
       "</div>"
      ],
      "text/plain": [
       "        reconstruction_error  true_class\n",
       "183484              0.378933           0\n",
       "255448              0.261262           0\n",
       "244749              1.121580           0\n",
       "63919               0.771053           0\n",
       "11475               0.775391           0"
      ]
     },
     "execution_count": 117,
     "metadata": {},
     "output_type": "execute_result"
    }
   ],
   "source": [
    "error_df = pd.DataFrame({'reconstruction_error': mse,'true_class': y_test})\n",
    "error_df.head(5)"
   ]
  },
  {
   "cell_type": "markdown",
   "metadata": {},
   "source": [
    "### Reconstruction error without fraud"
   ]
  },
  {
   "cell_type": "code",
   "execution_count": 118,
   "metadata": {},
   "outputs": [
    {
     "data": {
      "image/png": "[encoded data removed]",
      "text/plain": [
       "<matplotlib.figure.Figure at 0x16e8bf2cba8>"
      ]
     },
     "metadata": {},
     "output_type": "display_data"
    }
   ],
   "source": [
    "fig = plt.figure()\n",
    "ax = fig.add_subplot(111)\n",
    "normal_error_df = error_df[(error_df['true_class']== 0) & (error_df['reconstruction_error'] < 10)]\n",
    "_= ax.hist(normal_error_df.reconstruction_error.values, bins=10)"
   ]
  },
  {
   "cell_type": "markdown",
   "metadata": {},
   "source": [
    "### Reconstruction error with Fraud"
   ]
  },
  {
   "cell_type": "code",
   "execution_count": 119,
   "metadata": {},
   "outputs": [
    {
     "data": {
      "image/png": "[encoded data removed]",
      "text/plain": [
       "<matplotlib.figure.Figure at 0x16e8a233828>"
      ]
     },
     "metadata": {},
     "output_type": "display_data"
    }
   ],
   "source": [
    "fig = plt.figure()\n",
    "ax = fig.add_subplot(111)\n",
    "fraud_error_df = error_df[error_df['true_class'] == 1]\n",
    "_ = ax.hist(fraud_error_df.reconstruction_error.values, bins=10)"
   ]
  },
  {
   "cell_type": "code",
   "execution_count": 120,
   "metadata": {},
   "outputs": [],
   "source": [
    "from sklearn.metrics import confusion_matrix, precision_recall_curve, auc, roc_curve, recall_score, classification_report, f1_score, precision_recall_fscore_support"
   ]
  },
  {
   "cell_type": "markdown",
   "metadata": {},
   "source": [
    "### ROC-AUC curve"
   ]
  },
  {
   "cell_type": "code",
   "execution_count": 121,
   "metadata": {},
   "outputs": [
    {
     "data": {
      "image/png": "[encoded data removed]",
      "text/plain": [
       "<matplotlib.figure.Figure at 0x16e8a8479e8>"
      ]
     },
     "metadata": {},
     "output_type": "display_data"
    }
   ],
   "source": [
    "fpr, tpr, thresholds = roc_curve(error_df.true_class, error_df.reconstruction_error)\n",
    "roc_auc = auc(fpr, tpr)\n",
    "\n",
    "plt.title('Receiver Operating Characteristic')\n",
    "plt.plot(fpr, tpr, label='AUC = %0.4f'% roc_auc)\n",
    "plt.legend(loc='lower right')\n",
    "plt.plot([0,1],[0,1],'r--')\n",
    "plt.xlim([-0.001, 1])\n",
    "plt.ylim([0, 1.001])\n",
    "plt.ylabel('True Positive Rate')\n",
    "plt.xlabel('False Positive Rate')\n",
    "plt.show();"
   ]
  },
  {
   "cell_type": "markdown",
   "metadata": {},
   "source": [
    "### Precision Recall Curve"
   ]
  },
  {
   "cell_type": "code",
   "execution_count": 122,
   "metadata": {},
   "outputs": [
    {
     "data": {
      "image/png": "[encoded data removed]",
      "text/plain": [
       "<matplotlib.figure.Figure at 0x16e895c0b38>"
      ]
     },
     "metadata": {},
     "output_type": "display_data"
    }
   ],
   "source": [
    "precision, recall, th = precision_recall_curve(error_df.true_class, error_df.reconstruction_error)\n",
    "plt.plot(recall, precision, 'b', label='Precision-Recall curve')\n",
    "plt.title('Recall vs Precision')\n",
    "plt.xlabel('Recall')\n",
    "plt.ylabel('Precision')\n",
    "plt.show()"
   ]
  },
  {
   "cell_type": "markdown",
   "metadata": {},
   "source": [
    "### Precision for different threshold values"
   ]
  },
  {
   "cell_type": "code",
   "execution_count": 123,
   "metadata": {},
   "outputs": [
    {
     "data": {
      "image/png": "[encoded data removed]",
      "text/plain": [
       "<matplotlib.figure.Figure at 0x16e8bbf8ef0>"
      ]
     },
     "metadata": {},
     "output_type": "display_data"
    }
   ],
   "source": [
    "plt.plot(th, precision[1:], 'b', label='Threshold-Precision curve')\n",
    "plt.title('Precision for different threshold values')\n",
    "plt.xlabel('Threshold')\n",
    "plt.ylabel('Precision')\n",
    "plt.show()"
   ]
  },
  {
   "cell_type": "markdown",
   "metadata": {},
   "source": [
    "### Recall for different threshold values"
   ]
  },
  {
   "cell_type": "code",
   "execution_count": 124,
   "metadata": {},
   "outputs": [
    {
     "data": {
      "image/png": "[encoded data removed]",
      "text/plain": [
       "<matplotlib.figure.Figure at 0x16e898cc7f0>"
      ]
     },
     "metadata": {},
     "output_type": "display_data"
    }
   ],
   "source": [
    "plt.plot(th, recall[1:], 'b', label='Threshold-Recall curve')\n",
    "plt.title('Recall for different threshold values')\n",
    "plt.xlabel('Reconstruction error')\n",
    "plt.ylabel('Recall')\n",
    "plt.show()"
   ]
  },
  {
   "cell_type": "code",
   "execution_count": 126,
   "metadata": {},
   "outputs": [
    {
     "data": {
      "image/png": "[encoded data removed]",
      "text/plain": [
       "<matplotlib.figure.Figure at 0x16e89b895f8>"
      ]
     },
     "metadata": {},
     "output_type": "display_data"
    }
   ],
   "source": [
    "threshold = 2.9\n",
    "groups = error_df.groupby('true_class')\n",
    "fig, ax = plt.subplots(figsize=(15,10))\n",
    "\n",
    "for name, group in groups:\n",
    "    ax.plot(group.index, group.reconstruction_error, marker='o', ms=3.5, linestyle='',\n",
    "            label= \"Fraud\" if name == 1 else \"Normal\")\n",
    "ax.hlines(threshold, ax.get_xlim()[0], ax.get_xlim()[1], colors=\"r\", zorder=100, label='Threshold')\n",
    "ax.legend()\n",
    "plt.title(\"Reconstruction error for different classes\")\n",
    "plt.ylabel(\"Reconstruction error\")\n",
    "plt.xlabel(\"Data point index\")\n",
    "plt.show()"
   ]
  },
  {
   "cell_type": "markdown",
   "metadata": {},
   "source": [
    "### Confusion Matrix"
   ]
  },
  {
   "cell_type": "code",
   "execution_count": 128,
   "metadata": {},
   "outputs": [
    {
     "data": {
      "image/png": "[encoded data removed]",
      "text/plain": [
       "<matplotlib.figure.Figure at 0x16e8bb6a240>"
      ]
     },
     "metadata": {},
     "output_type": "display_data"
    }
   ],
   "source": [
    "LABELS = [\"Normal\", \"Fraud\"]\n",
    "y_pred = [1 if e > threshold else 0 for e in error_df.reconstruction_error.values]\n",
    "conf_matrix = confusion_matrix(error_df.true_class, y_pred)\n",
    "plt.figure(figsize=(10, 5))\n",
    "sns.heatmap(conf_matrix, xticklabels=LABELS, yticklabels=LABELS, annot=True, fmt=\"d\");\n",
    "plt.title(\"Confusion matrix\")\n",
    "plt.ylabel('True class')\n",
    "plt.xlabel('Predicted class')\n",
    "plt.show()"
   ]
  }
 ],
 "metadata": {
  "kernelspec": {
   "display_name": "Python 3",
   "language": "python",
   "name": "python3"
  },
  "language_info": {
   "codemirror_mode": {
    "name": "ipython",
    "version": 3
   },
   "file_extension": ".py",
   "mimetype": "text/x-python",
   "name": "python",
   "nbconvert_exporter": "python",
   "pygments_lexer": "ipython3",
   "version": "3.6.4"
  }
 },
 "nbformat": 4,
 "nbformat_minor": 2
}
